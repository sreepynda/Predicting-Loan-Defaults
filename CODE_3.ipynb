{
 "cells": [
  {
   "cell_type": "code",
   "execution_count": 22,
   "id": "585a09b1",
   "metadata": {},
   "outputs": [
    {
     "data": {
      "application/javascript": [
       "\n",
       "        if (window._pyforest_update_imports_cell) { window._pyforest_update_imports_cell('import seaborn as sns\\nfrom sklearn.model_selection import train_test_split\\nimport matplotlib.pyplot as plt\\nfrom sklearn.model_selection import cross_val_score\\nimport pandas as pd'); }\n",
       "    "
      ],
      "text/plain": [
       "<IPython.core.display.Javascript object>"
      ]
     },
     "metadata": {},
     "output_type": "display_data"
    },
    {
     "data": {
      "text/html": [
       "<div>\n",
       "<style scoped>\n",
       "    .dataframe tbody tr th:only-of-type {\n",
       "        vertical-align: middle;\n",
       "    }\n",
       "\n",
       "    .dataframe tbody tr th {\n",
       "        vertical-align: top;\n",
       "    }\n",
       "\n",
       "    .dataframe thead th {\n",
       "        text-align: right;\n",
       "    }\n",
       "</style>\n",
       "<table border=\"1\" class=\"dataframe\">\n",
       "  <thead>\n",
       "    <tr style=\"text-align: right;\">\n",
       "      <th></th>\n",
       "      <th>credit.policy</th>\n",
       "      <th>purpose</th>\n",
       "      <th>int.rate</th>\n",
       "      <th>installment</th>\n",
       "      <th>log.annual.inc</th>\n",
       "      <th>dti</th>\n",
       "      <th>fico</th>\n",
       "      <th>days.with.cr.line</th>\n",
       "      <th>revol.bal</th>\n",
       "      <th>revol.util</th>\n",
       "      <th>inq.last.6mths</th>\n",
       "      <th>delinq.2yrs</th>\n",
       "      <th>pub.rec</th>\n",
       "      <th>not.fully.paid</th>\n",
       "    </tr>\n",
       "  </thead>\n",
       "  <tbody>\n",
       "    <tr>\n",
       "      <th>0</th>\n",
       "      <td>1</td>\n",
       "      <td>debt_consolidation</td>\n",
       "      <td>0.1189</td>\n",
       "      <td>829.10</td>\n",
       "      <td>11.350407</td>\n",
       "      <td>19.48</td>\n",
       "      <td>737</td>\n",
       "      <td>5639.958333</td>\n",
       "      <td>28854</td>\n",
       "      <td>52.1</td>\n",
       "      <td>0</td>\n",
       "      <td>0</td>\n",
       "      <td>0</td>\n",
       "      <td>0</td>\n",
       "    </tr>\n",
       "    <tr>\n",
       "      <th>1</th>\n",
       "      <td>1</td>\n",
       "      <td>credit_card</td>\n",
       "      <td>0.1071</td>\n",
       "      <td>228.22</td>\n",
       "      <td>11.082143</td>\n",
       "      <td>14.29</td>\n",
       "      <td>707</td>\n",
       "      <td>2760.000000</td>\n",
       "      <td>33623</td>\n",
       "      <td>76.7</td>\n",
       "      <td>0</td>\n",
       "      <td>0</td>\n",
       "      <td>0</td>\n",
       "      <td>0</td>\n",
       "    </tr>\n",
       "    <tr>\n",
       "      <th>2</th>\n",
       "      <td>1</td>\n",
       "      <td>debt_consolidation</td>\n",
       "      <td>0.1357</td>\n",
       "      <td>366.86</td>\n",
       "      <td>10.373491</td>\n",
       "      <td>11.63</td>\n",
       "      <td>682</td>\n",
       "      <td>4710.000000</td>\n",
       "      <td>3511</td>\n",
       "      <td>25.6</td>\n",
       "      <td>1</td>\n",
       "      <td>0</td>\n",
       "      <td>0</td>\n",
       "      <td>0</td>\n",
       "    </tr>\n",
       "    <tr>\n",
       "      <th>3</th>\n",
       "      <td>1</td>\n",
       "      <td>debt_consolidation</td>\n",
       "      <td>0.1008</td>\n",
       "      <td>162.34</td>\n",
       "      <td>11.350407</td>\n",
       "      <td>8.10</td>\n",
       "      <td>712</td>\n",
       "      <td>2699.958333</td>\n",
       "      <td>33667</td>\n",
       "      <td>73.2</td>\n",
       "      <td>1</td>\n",
       "      <td>0</td>\n",
       "      <td>0</td>\n",
       "      <td>0</td>\n",
       "    </tr>\n",
       "    <tr>\n",
       "      <th>4</th>\n",
       "      <td>1</td>\n",
       "      <td>credit_card</td>\n",
       "      <td>0.1426</td>\n",
       "      <td>102.92</td>\n",
       "      <td>11.299732</td>\n",
       "      <td>14.97</td>\n",
       "      <td>667</td>\n",
       "      <td>4066.000000</td>\n",
       "      <td>4740</td>\n",
       "      <td>39.5</td>\n",
       "      <td>0</td>\n",
       "      <td>1</td>\n",
       "      <td>0</td>\n",
       "      <td>0</td>\n",
       "    </tr>\n",
       "    <tr>\n",
       "      <th>...</th>\n",
       "      <td>...</td>\n",
       "      <td>...</td>\n",
       "      <td>...</td>\n",
       "      <td>...</td>\n",
       "      <td>...</td>\n",
       "      <td>...</td>\n",
       "      <td>...</td>\n",
       "      <td>...</td>\n",
       "      <td>...</td>\n",
       "      <td>...</td>\n",
       "      <td>...</td>\n",
       "      <td>...</td>\n",
       "      <td>...</td>\n",
       "      <td>...</td>\n",
       "    </tr>\n",
       "    <tr>\n",
       "      <th>9573</th>\n",
       "      <td>0</td>\n",
       "      <td>all_other</td>\n",
       "      <td>0.1461</td>\n",
       "      <td>344.76</td>\n",
       "      <td>12.180755</td>\n",
       "      <td>10.39</td>\n",
       "      <td>672</td>\n",
       "      <td>10474.000000</td>\n",
       "      <td>215372</td>\n",
       "      <td>82.1</td>\n",
       "      <td>2</td>\n",
       "      <td>0</td>\n",
       "      <td>0</td>\n",
       "      <td>1</td>\n",
       "    </tr>\n",
       "    <tr>\n",
       "      <th>9574</th>\n",
       "      <td>0</td>\n",
       "      <td>all_other</td>\n",
       "      <td>0.1253</td>\n",
       "      <td>257.70</td>\n",
       "      <td>11.141862</td>\n",
       "      <td>0.21</td>\n",
       "      <td>722</td>\n",
       "      <td>4380.000000</td>\n",
       "      <td>184</td>\n",
       "      <td>1.1</td>\n",
       "      <td>5</td>\n",
       "      <td>0</td>\n",
       "      <td>0</td>\n",
       "      <td>1</td>\n",
       "    </tr>\n",
       "    <tr>\n",
       "      <th>9575</th>\n",
       "      <td>0</td>\n",
       "      <td>debt_consolidation</td>\n",
       "      <td>0.1071</td>\n",
       "      <td>97.81</td>\n",
       "      <td>10.596635</td>\n",
       "      <td>13.09</td>\n",
       "      <td>687</td>\n",
       "      <td>3450.041667</td>\n",
       "      <td>10036</td>\n",
       "      <td>82.9</td>\n",
       "      <td>8</td>\n",
       "      <td>0</td>\n",
       "      <td>0</td>\n",
       "      <td>1</td>\n",
       "    </tr>\n",
       "    <tr>\n",
       "      <th>9576</th>\n",
       "      <td>0</td>\n",
       "      <td>home_improvement</td>\n",
       "      <td>0.1600</td>\n",
       "      <td>351.58</td>\n",
       "      <td>10.819778</td>\n",
       "      <td>19.18</td>\n",
       "      <td>692</td>\n",
       "      <td>1800.000000</td>\n",
       "      <td>0</td>\n",
       "      <td>3.2</td>\n",
       "      <td>5</td>\n",
       "      <td>0</td>\n",
       "      <td>0</td>\n",
       "      <td>1</td>\n",
       "    </tr>\n",
       "    <tr>\n",
       "      <th>9577</th>\n",
       "      <td>0</td>\n",
       "      <td>debt_consolidation</td>\n",
       "      <td>0.1392</td>\n",
       "      <td>853.43</td>\n",
       "      <td>11.264464</td>\n",
       "      <td>16.28</td>\n",
       "      <td>732</td>\n",
       "      <td>4740.000000</td>\n",
       "      <td>37879</td>\n",
       "      <td>57.0</td>\n",
       "      <td>6</td>\n",
       "      <td>0</td>\n",
       "      <td>0</td>\n",
       "      <td>1</td>\n",
       "    </tr>\n",
       "  </tbody>\n",
       "</table>\n",
       "<p>9578 rows × 14 columns</p>\n",
       "</div>"
      ],
      "text/plain": [
       "      credit.policy             purpose  int.rate  installment  \\\n",
       "0                 1  debt_consolidation    0.1189       829.10   \n",
       "1                 1         credit_card    0.1071       228.22   \n",
       "2                 1  debt_consolidation    0.1357       366.86   \n",
       "3                 1  debt_consolidation    0.1008       162.34   \n",
       "4                 1         credit_card    0.1426       102.92   \n",
       "...             ...                 ...       ...          ...   \n",
       "9573              0           all_other    0.1461       344.76   \n",
       "9574              0           all_other    0.1253       257.70   \n",
       "9575              0  debt_consolidation    0.1071        97.81   \n",
       "9576              0    home_improvement    0.1600       351.58   \n",
       "9577              0  debt_consolidation    0.1392       853.43   \n",
       "\n",
       "      log.annual.inc    dti  fico  days.with.cr.line  revol.bal  revol.util  \\\n",
       "0          11.350407  19.48   737        5639.958333      28854        52.1   \n",
       "1          11.082143  14.29   707        2760.000000      33623        76.7   \n",
       "2          10.373491  11.63   682        4710.000000       3511        25.6   \n",
       "3          11.350407   8.10   712        2699.958333      33667        73.2   \n",
       "4          11.299732  14.97   667        4066.000000       4740        39.5   \n",
       "...              ...    ...   ...                ...        ...         ...   \n",
       "9573       12.180755  10.39   672       10474.000000     215372        82.1   \n",
       "9574       11.141862   0.21   722        4380.000000        184         1.1   \n",
       "9575       10.596635  13.09   687        3450.041667      10036        82.9   \n",
       "9576       10.819778  19.18   692        1800.000000          0         3.2   \n",
       "9577       11.264464  16.28   732        4740.000000      37879        57.0   \n",
       "\n",
       "      inq.last.6mths  delinq.2yrs  pub.rec  not.fully.paid  \n",
       "0                  0            0        0               0  \n",
       "1                  0            0        0               0  \n",
       "2                  1            0        0               0  \n",
       "3                  1            0        0               0  \n",
       "4                  0            1        0               0  \n",
       "...              ...          ...      ...             ...  \n",
       "9573               2            0        0               1  \n",
       "9574               5            0        0               1  \n",
       "9575               8            0        0               1  \n",
       "9576               5            0        0               1  \n",
       "9577               6            0        0               1  \n",
       "\n",
       "[9578 rows x 14 columns]"
      ]
     },
     "execution_count": 22,
     "metadata": {},
     "output_type": "execute_result"
    }
   ],
   "source": [
    "import os\n",
    "os.chdir(r'C:\\Users\\63094\\Downloads\\hero wired\\datacsv')\n",
    "os.listdir()\n",
    "df=pd.read_csv('Dataset (4).csv')\n",
    "df"
   ]
  },
  {
   "cell_type": "code",
   "execution_count": 23,
   "id": "40241866",
   "metadata": {},
   "outputs": [],
   "source": [
    "df1=df.rename(columns={'int.rate':'interestrate','log.annual.inc':'annual income','dti':'debts/income','fico':'creditscore','revolbal':'amount unpaid at end','delinq.2yrs':'due','pub.rec':'public_record', 'not.fully.paid':'target','inq.last.6mths':'enquiry'})\n"
   ]
  },
  {
   "cell_type": "code",
   "execution_count": 24,
   "id": "b63e602a",
   "metadata": {},
   "outputs": [
    {
     "data": {
      "application/javascript": [
       "\n",
       "        if (window._pyforest_update_imports_cell) { window._pyforest_update_imports_cell('import seaborn as sns\\nfrom sklearn.model_selection import train_test_split\\nimport matplotlib.pyplot as plt\\nfrom sklearn.model_selection import cross_val_score\\nimport pandas as pd'); }\n",
       "    "
      ],
      "text/plain": [
       "<IPython.core.display.Javascript object>"
      ]
     },
     "metadata": {},
     "output_type": "display_data"
    },
    {
     "data": {
      "text/html": [
       "<div>\n",
       "<style scoped>\n",
       "    .dataframe tbody tr th:only-of-type {\n",
       "        vertical-align: middle;\n",
       "    }\n",
       "\n",
       "    .dataframe tbody tr th {\n",
       "        vertical-align: top;\n",
       "    }\n",
       "\n",
       "    .dataframe thead th {\n",
       "        text-align: right;\n",
       "    }\n",
       "</style>\n",
       "<table border=\"1\" class=\"dataframe\">\n",
       "  <thead>\n",
       "    <tr style=\"text-align: right;\">\n",
       "      <th></th>\n",
       "      <th>credit.policy</th>\n",
       "      <th>interestrate</th>\n",
       "      <th>installment</th>\n",
       "      <th>annual income</th>\n",
       "      <th>debts/income</th>\n",
       "      <th>creditscore</th>\n",
       "      <th>days.with.cr.line</th>\n",
       "      <th>revol.bal</th>\n",
       "      <th>revol.util</th>\n",
       "      <th>enquiry</th>\n",
       "      <th>due</th>\n",
       "      <th>public_record</th>\n",
       "      <th>target</th>\n",
       "      <th>purpose_credit_card</th>\n",
       "      <th>purpose_debt_consolidation</th>\n",
       "      <th>purpose_educational</th>\n",
       "      <th>purpose_home_improvement</th>\n",
       "      <th>purpose_major_purchase</th>\n",
       "      <th>purpose_small_business</th>\n",
       "    </tr>\n",
       "  </thead>\n",
       "  <tbody>\n",
       "    <tr>\n",
       "      <th>0</th>\n",
       "      <td>1</td>\n",
       "      <td>0.1189</td>\n",
       "      <td>829.10</td>\n",
       "      <td>11.350407</td>\n",
       "      <td>19.48</td>\n",
       "      <td>737</td>\n",
       "      <td>5639.958333</td>\n",
       "      <td>28854</td>\n",
       "      <td>52.1</td>\n",
       "      <td>0</td>\n",
       "      <td>0</td>\n",
       "      <td>0</td>\n",
       "      <td>0</td>\n",
       "      <td>0</td>\n",
       "      <td>1</td>\n",
       "      <td>0</td>\n",
       "      <td>0</td>\n",
       "      <td>0</td>\n",
       "      <td>0</td>\n",
       "    </tr>\n",
       "    <tr>\n",
       "      <th>1</th>\n",
       "      <td>1</td>\n",
       "      <td>0.1071</td>\n",
       "      <td>228.22</td>\n",
       "      <td>11.082143</td>\n",
       "      <td>14.29</td>\n",
       "      <td>707</td>\n",
       "      <td>2760.000000</td>\n",
       "      <td>33623</td>\n",
       "      <td>76.7</td>\n",
       "      <td>0</td>\n",
       "      <td>0</td>\n",
       "      <td>0</td>\n",
       "      <td>0</td>\n",
       "      <td>1</td>\n",
       "      <td>0</td>\n",
       "      <td>0</td>\n",
       "      <td>0</td>\n",
       "      <td>0</td>\n",
       "      <td>0</td>\n",
       "    </tr>\n",
       "    <tr>\n",
       "      <th>2</th>\n",
       "      <td>1</td>\n",
       "      <td>0.1357</td>\n",
       "      <td>366.86</td>\n",
       "      <td>10.373491</td>\n",
       "      <td>11.63</td>\n",
       "      <td>682</td>\n",
       "      <td>4710.000000</td>\n",
       "      <td>3511</td>\n",
       "      <td>25.6</td>\n",
       "      <td>1</td>\n",
       "      <td>0</td>\n",
       "      <td>0</td>\n",
       "      <td>0</td>\n",
       "      <td>0</td>\n",
       "      <td>1</td>\n",
       "      <td>0</td>\n",
       "      <td>0</td>\n",
       "      <td>0</td>\n",
       "      <td>0</td>\n",
       "    </tr>\n",
       "    <tr>\n",
       "      <th>3</th>\n",
       "      <td>1</td>\n",
       "      <td>0.1008</td>\n",
       "      <td>162.34</td>\n",
       "      <td>11.350407</td>\n",
       "      <td>8.10</td>\n",
       "      <td>712</td>\n",
       "      <td>2699.958333</td>\n",
       "      <td>33667</td>\n",
       "      <td>73.2</td>\n",
       "      <td>1</td>\n",
       "      <td>0</td>\n",
       "      <td>0</td>\n",
       "      <td>0</td>\n",
       "      <td>0</td>\n",
       "      <td>1</td>\n",
       "      <td>0</td>\n",
       "      <td>0</td>\n",
       "      <td>0</td>\n",
       "      <td>0</td>\n",
       "    </tr>\n",
       "    <tr>\n",
       "      <th>4</th>\n",
       "      <td>1</td>\n",
       "      <td>0.1426</td>\n",
       "      <td>102.92</td>\n",
       "      <td>11.299732</td>\n",
       "      <td>14.97</td>\n",
       "      <td>667</td>\n",
       "      <td>4066.000000</td>\n",
       "      <td>4740</td>\n",
       "      <td>39.5</td>\n",
       "      <td>0</td>\n",
       "      <td>1</td>\n",
       "      <td>0</td>\n",
       "      <td>0</td>\n",
       "      <td>1</td>\n",
       "      <td>0</td>\n",
       "      <td>0</td>\n",
       "      <td>0</td>\n",
       "      <td>0</td>\n",
       "      <td>0</td>\n",
       "    </tr>\n",
       "    <tr>\n",
       "      <th>...</th>\n",
       "      <td>...</td>\n",
       "      <td>...</td>\n",
       "      <td>...</td>\n",
       "      <td>...</td>\n",
       "      <td>...</td>\n",
       "      <td>...</td>\n",
       "      <td>...</td>\n",
       "      <td>...</td>\n",
       "      <td>...</td>\n",
       "      <td>...</td>\n",
       "      <td>...</td>\n",
       "      <td>...</td>\n",
       "      <td>...</td>\n",
       "      <td>...</td>\n",
       "      <td>...</td>\n",
       "      <td>...</td>\n",
       "      <td>...</td>\n",
       "      <td>...</td>\n",
       "      <td>...</td>\n",
       "    </tr>\n",
       "    <tr>\n",
       "      <th>9573</th>\n",
       "      <td>0</td>\n",
       "      <td>0.1461</td>\n",
       "      <td>344.76</td>\n",
       "      <td>12.180755</td>\n",
       "      <td>10.39</td>\n",
       "      <td>672</td>\n",
       "      <td>10474.000000</td>\n",
       "      <td>215372</td>\n",
       "      <td>82.1</td>\n",
       "      <td>2</td>\n",
       "      <td>0</td>\n",
       "      <td>0</td>\n",
       "      <td>1</td>\n",
       "      <td>0</td>\n",
       "      <td>0</td>\n",
       "      <td>0</td>\n",
       "      <td>0</td>\n",
       "      <td>0</td>\n",
       "      <td>0</td>\n",
       "    </tr>\n",
       "    <tr>\n",
       "      <th>9574</th>\n",
       "      <td>0</td>\n",
       "      <td>0.1253</td>\n",
       "      <td>257.70</td>\n",
       "      <td>11.141862</td>\n",
       "      <td>0.21</td>\n",
       "      <td>722</td>\n",
       "      <td>4380.000000</td>\n",
       "      <td>184</td>\n",
       "      <td>1.1</td>\n",
       "      <td>5</td>\n",
       "      <td>0</td>\n",
       "      <td>0</td>\n",
       "      <td>1</td>\n",
       "      <td>0</td>\n",
       "      <td>0</td>\n",
       "      <td>0</td>\n",
       "      <td>0</td>\n",
       "      <td>0</td>\n",
       "      <td>0</td>\n",
       "    </tr>\n",
       "    <tr>\n",
       "      <th>9575</th>\n",
       "      <td>0</td>\n",
       "      <td>0.1071</td>\n",
       "      <td>97.81</td>\n",
       "      <td>10.596635</td>\n",
       "      <td>13.09</td>\n",
       "      <td>687</td>\n",
       "      <td>3450.041667</td>\n",
       "      <td>10036</td>\n",
       "      <td>82.9</td>\n",
       "      <td>8</td>\n",
       "      <td>0</td>\n",
       "      <td>0</td>\n",
       "      <td>1</td>\n",
       "      <td>0</td>\n",
       "      <td>1</td>\n",
       "      <td>0</td>\n",
       "      <td>0</td>\n",
       "      <td>0</td>\n",
       "      <td>0</td>\n",
       "    </tr>\n",
       "    <tr>\n",
       "      <th>9576</th>\n",
       "      <td>0</td>\n",
       "      <td>0.1600</td>\n",
       "      <td>351.58</td>\n",
       "      <td>10.819778</td>\n",
       "      <td>19.18</td>\n",
       "      <td>692</td>\n",
       "      <td>1800.000000</td>\n",
       "      <td>0</td>\n",
       "      <td>3.2</td>\n",
       "      <td>5</td>\n",
       "      <td>0</td>\n",
       "      <td>0</td>\n",
       "      <td>1</td>\n",
       "      <td>0</td>\n",
       "      <td>0</td>\n",
       "      <td>0</td>\n",
       "      <td>1</td>\n",
       "      <td>0</td>\n",
       "      <td>0</td>\n",
       "    </tr>\n",
       "    <tr>\n",
       "      <th>9577</th>\n",
       "      <td>0</td>\n",
       "      <td>0.1392</td>\n",
       "      <td>853.43</td>\n",
       "      <td>11.264464</td>\n",
       "      <td>16.28</td>\n",
       "      <td>732</td>\n",
       "      <td>4740.000000</td>\n",
       "      <td>37879</td>\n",
       "      <td>57.0</td>\n",
       "      <td>6</td>\n",
       "      <td>0</td>\n",
       "      <td>0</td>\n",
       "      <td>1</td>\n",
       "      <td>0</td>\n",
       "      <td>1</td>\n",
       "      <td>0</td>\n",
       "      <td>0</td>\n",
       "      <td>0</td>\n",
       "      <td>0</td>\n",
       "    </tr>\n",
       "  </tbody>\n",
       "</table>\n",
       "<p>9578 rows × 19 columns</p>\n",
       "</div>"
      ],
      "text/plain": [
       "      credit.policy  interestrate  installment  annual income  debts/income  \\\n",
       "0                 1        0.1189       829.10      11.350407         19.48   \n",
       "1                 1        0.1071       228.22      11.082143         14.29   \n",
       "2                 1        0.1357       366.86      10.373491         11.63   \n",
       "3                 1        0.1008       162.34      11.350407          8.10   \n",
       "4                 1        0.1426       102.92      11.299732         14.97   \n",
       "...             ...           ...          ...            ...           ...   \n",
       "9573              0        0.1461       344.76      12.180755         10.39   \n",
       "9574              0        0.1253       257.70      11.141862          0.21   \n",
       "9575              0        0.1071        97.81      10.596635         13.09   \n",
       "9576              0        0.1600       351.58      10.819778         19.18   \n",
       "9577              0        0.1392       853.43      11.264464         16.28   \n",
       "\n",
       "      creditscore  days.with.cr.line  revol.bal  revol.util  enquiry  due  \\\n",
       "0             737        5639.958333      28854        52.1        0    0   \n",
       "1             707        2760.000000      33623        76.7        0    0   \n",
       "2             682        4710.000000       3511        25.6        1    0   \n",
       "3             712        2699.958333      33667        73.2        1    0   \n",
       "4             667        4066.000000       4740        39.5        0    1   \n",
       "...           ...                ...        ...         ...      ...  ...   \n",
       "9573          672       10474.000000     215372        82.1        2    0   \n",
       "9574          722        4380.000000        184         1.1        5    0   \n",
       "9575          687        3450.041667      10036        82.9        8    0   \n",
       "9576          692        1800.000000          0         3.2        5    0   \n",
       "9577          732        4740.000000      37879        57.0        6    0   \n",
       "\n",
       "      public_record  target  purpose_credit_card  purpose_debt_consolidation  \\\n",
       "0                 0       0                    0                           1   \n",
       "1                 0       0                    1                           0   \n",
       "2                 0       0                    0                           1   \n",
       "3                 0       0                    0                           1   \n",
       "4                 0       0                    1                           0   \n",
       "...             ...     ...                  ...                         ...   \n",
       "9573              0       1                    0                           0   \n",
       "9574              0       1                    0                           0   \n",
       "9575              0       1                    0                           1   \n",
       "9576              0       1                    0                           0   \n",
       "9577              0       1                    0                           1   \n",
       "\n",
       "      purpose_educational  purpose_home_improvement  purpose_major_purchase  \\\n",
       "0                       0                         0                       0   \n",
       "1                       0                         0                       0   \n",
       "2                       0                         0                       0   \n",
       "3                       0                         0                       0   \n",
       "4                       0                         0                       0   \n",
       "...                   ...                       ...                     ...   \n",
       "9573                    0                         0                       0   \n",
       "9574                    0                         0                       0   \n",
       "9575                    0                         0                       0   \n",
       "9576                    0                         1                       0   \n",
       "9577                    0                         0                       0   \n",
       "\n",
       "      purpose_small_business  \n",
       "0                          0  \n",
       "1                          0  \n",
       "2                          0  \n",
       "3                          0  \n",
       "4                          0  \n",
       "...                      ...  \n",
       "9573                       0  \n",
       "9574                       0  \n",
       "9575                       0  \n",
       "9576                       0  \n",
       "9577                       0  \n",
       "\n",
       "[9578 rows x 19 columns]"
      ]
     },
     "execution_count": 24,
     "metadata": {},
     "output_type": "execute_result"
    }
   ],
   "source": [
    "df1_encoded=pd.get_dummies(df1,columns=['purpose'],drop_first=True)\n",
    "df1_encoded"
   ]
  },
  {
   "cell_type": "code",
   "execution_count": 25,
   "id": "f824f8c7",
   "metadata": {},
   "outputs": [],
   "source": [
    "x=df1_encoded.drop('target',axis=1)\n",
    "y=df1_encoded['target']"
   ]
  },
  {
   "cell_type": "code",
   "execution_count": 26,
   "id": "9185aba1",
   "metadata": {},
   "outputs": [
    {
     "data": {
      "application/javascript": [
       "\n",
       "        if (window._pyforest_update_imports_cell) { window._pyforest_update_imports_cell('import seaborn as sns\\nfrom sklearn.model_selection import train_test_split\\nimport matplotlib.pyplot as plt\\nfrom sklearn.model_selection import cross_val_score\\nimport pandas as pd'); }\n",
       "    "
      ],
      "text/plain": [
       "<IPython.core.display.Javascript object>"
      ]
     },
     "metadata": {},
     "output_type": "display_data"
    }
   ],
   "source": [
    "X_train,X_test,y_train,y_test=train_test_split(x,y,test_size=0.3)"
   ]
  },
  {
   "cell_type": "code",
   "execution_count": null,
   "id": "35c35318",
   "metadata": {},
   "outputs": [],
   "source": []
  },
  {
   "cell_type": "code",
   "execution_count": 27,
   "id": "f74c854b",
   "metadata": {},
   "outputs": [],
   "source": [
    "from sklearn import tree\n",
    "from sklearn.metrics import accuracy_score,classification_report,precision_score,recall_score,f1_score,confusion_matrix,cohen_kappa_score,roc_auc_score,roc_curve\n",
    " "
   ]
  },
  {
   "cell_type": "markdown",
   "id": "573d5fd7",
   "metadata": {},
   "source": [
    "### general model"
   ]
  },
  {
   "cell_type": "code",
   "execution_count": 28,
   "id": "a9e7f01f",
   "metadata": {},
   "outputs": [
    {
     "data": {
      "text/plain": [
       "DecisionTreeClassifier(random_state=42)"
      ]
     },
     "execution_count": 28,
     "metadata": {},
     "output_type": "execute_result"
    }
   ],
   "source": [
    "model_gen_g=tree.DecisionTreeClassifier( criterion='gini',random_state=42)\n",
    "model_gen_g.fit(X_train,y_train)"
   ]
  },
  {
   "cell_type": "code",
   "execution_count": 29,
   "id": "0ebf187b",
   "metadata": {},
   "outputs": [],
   "source": [
    "def compare_model_train_test(model_gen_g):\n",
    "    y_train_pred = model_gen_g.predict(X_train)\n",
    "    y_test_pred = model_gen_g.predict(X_test)\n",
    "    train_accuracy = accuracy_score(y_train, y_train_pred)\n",
    "    test_accuracy = accuracy_score(y_test, y_test_pred)\n",
    "    train_clf_report = classification_report(y_train, y_train_pred)\n",
    "    test_clf_report = classification_report(y_test, y_test_pred)\n",
    "    print('Training accuracy is :', train_accuracy, '\\n', train_clf_report, '\\n',\n",
    "         'Testing accuracy is :', round(test_accuracy,2), '\\n', test_clf_report, '\\n' )"
   ]
  },
  {
   "cell_type": "code",
   "execution_count": 30,
   "id": "ae725016",
   "metadata": {},
   "outputs": [
    {
     "name": "stdout",
     "output_type": "stream",
     "text": [
      "Training accuracy is : 1.0 \n",
      "               precision    recall  f1-score   support\n",
      "\n",
      "           0       1.00      1.00      1.00      5619\n",
      "           1       1.00      1.00      1.00      1085\n",
      "\n",
      "    accuracy                           1.00      6704\n",
      "   macro avg       1.00      1.00      1.00      6704\n",
      "weighted avg       1.00      1.00      1.00      6704\n",
      " \n",
      " Testing accuracy is : 0.74 \n",
      "               precision    recall  f1-score   support\n",
      "\n",
      "           0       0.86      0.84      0.85      2426\n",
      "           1       0.22      0.25      0.23       448\n",
      "\n",
      "    accuracy                           0.74      2874\n",
      "   macro avg       0.54      0.54      0.54      2874\n",
      "weighted avg       0.76      0.74      0.75      2874\n",
      " \n",
      "\n"
     ]
    }
   ],
   "source": [
    " compare_model_train_test(model_gen_g)"
   ]
  },
  {
   "cell_type": "code",
   "execution_count": 31,
   "id": "519f11f2",
   "metadata": {},
   "outputs": [],
   "source": [
    "def evaluate_preds(y_test, y_test_pred):\n",
    "    \"\"\"\n",
    "    Performs evaluation comparison on y_true labels vs. y_pred labels.\n",
    "    \"\"\"\n",
    "    accuracy = accuracy_score(y_test, y_test_pred)\n",
    "    precision = precision_score(y_test, y_test_pred)\n",
    "    recall = recall_score(y_test, y_test_pred)\n",
    "    f1 = f1_score(y_test, y_test_pred)\n",
    "    metric_dict = {\"accuracy\": round(accuracy, 2),\n",
    "                   \"precision\": round(precision, 2), \n",
    "                   \"recall\": round(recall, 2),\n",
    "                   \"f1\": round(f1, 2)}\n",
    "    print(f\"Acc: {accuracy * 100:.2f}%\")\n",
    "    print(f\"Precision: {precision:.2f}\")\n",
    "    print(f\"Recall: {recall:.2f}\")\n",
    "    print(f\"F1 score: {f1:.2f}\") \n",
    "\n",
    "    return metric_dict"
   ]
  },
  {
   "cell_type": "markdown",
   "id": "71d4c7b9",
   "metadata": {},
   "source": [
    "### train"
   ]
  },
  {
   "cell_type": "code",
   "execution_count": 32,
   "id": "44d08bca",
   "metadata": {},
   "outputs": [
    {
     "data": {
      "text/plain": [
       "array([[5619,    0],\n",
       "       [   0, 1085]], dtype=int64)"
      ]
     },
     "execution_count": 32,
     "metadata": {},
     "output_type": "execute_result"
    }
   ],
   "source": [
    "y_train_pred = model_gen_g.predict(X_train)\n",
    "cm=confusion_matrix(y_train,y_train_pred)\n",
    "cm"
   ]
  },
  {
   "cell_type": "code",
   "execution_count": 33,
   "id": "635de63f",
   "metadata": {},
   "outputs": [
    {
     "data": {
      "application/javascript": [
       "\n",
       "        if (window._pyforest_update_imports_cell) { window._pyforest_update_imports_cell('import seaborn as sns\\nfrom sklearn.model_selection import train_test_split\\nimport matplotlib.pyplot as plt\\nfrom sklearn.model_selection import cross_val_score\\nimport pandas as pd'); }\n",
       "    "
      ],
      "text/plain": [
       "<IPython.core.display.Javascript object>"
      ]
     },
     "metadata": {},
     "output_type": "display_data"
    },
    {
     "data": {
      "text/plain": [
       "<AxesSubplot:>"
      ]
     },
     "execution_count": 33,
     "metadata": {},
     "output_type": "execute_result"
    },
    {
     "data": {
      "image/png": "[encoded data removed]",
      "text/plain": [
       "<Figure size 432x288 with 2 Axes>"
      ]
     },
     "metadata": {
      "needs_background": "light"
     },
     "output_type": "display_data"
    }
   ],
   "source": [
    "sns.heatmap(cm,annot=True, fmt='g')"
   ]
  },
  {
   "cell_type": "markdown",
   "id": "21c8ba8c",
   "metadata": {},
   "source": [
    "### test"
   ]
  },
  {
   "cell_type": "code",
   "execution_count": 34,
   "id": "cf2ccefc",
   "metadata": {},
   "outputs": [
    {
     "name": "stdout",
     "output_type": "stream",
     "text": [
      "Acc: 74.39%\n",
      "Precision: 0.22\n",
      "Recall: 0.25\n",
      "F1 score: 0.23\n"
     ]
    }
   ],
   "source": [
    "y_test_pred = model_gen_g.predict(X_test)\n",
    "model_gen = evaluate_preds(y_test, y_test_pred)"
   ]
  },
  {
   "cell_type": "code",
   "execution_count": 35,
   "id": "41ab8960",
   "metadata": {},
   "outputs": [
    {
     "data": {
      "text/plain": [
       "array([[2026,  400],\n",
       "       [ 336,  112]], dtype=int64)"
      ]
     },
     "execution_count": 35,
     "metadata": {},
     "output_type": "execute_result"
    }
   ],
   "source": [
    "cm=confusion_matrix(y_test,y_test_pred)\n",
    "cm"
   ]
  },
  {
   "cell_type": "code",
   "execution_count": 36,
   "id": "22665621",
   "metadata": {},
   "outputs": [
    {
     "data": {
      "application/javascript": [
       "\n",
       "        if (window._pyforest_update_imports_cell) { window._pyforest_update_imports_cell('import seaborn as sns\\nfrom sklearn.model_selection import train_test_split\\nimport matplotlib.pyplot as plt\\nfrom sklearn.model_selection import cross_val_score\\nimport pandas as pd'); }\n",
       "    "
      ],
      "text/plain": [
       "<IPython.core.display.Javascript object>"
      ]
     },
     "metadata": {},
     "output_type": "display_data"
    },
    {
     "data": {
      "text/plain": [
       "<AxesSubplot:>"
      ]
     },
     "execution_count": 36,
     "metadata": {},
     "output_type": "execute_result"
    },
    {
     "data": {
      "image/png": "[encoded data removed]",
      "text/plain": [
       "<Figure size 432x288 with 2 Axes>"
      ]
     },
     "metadata": {
      "needs_background": "light"
     },
     "output_type": "display_data"
    }
   ],
   "source": [
    "sns.heatmap(cm,annot=True, fmt='g')"
   ]
  },
  {
   "cell_type": "code",
   "execution_count": 37,
   "id": "ef61317e",
   "metadata": {},
   "outputs": [],
   "source": [
    "y_pred_rcv=model_gen_g.predict_proba(X_test)\n",
    "y_pred_rcv_pos=y_pred_rcv[:,1]##taking positive probabilities\n",
    "y_pred_rcv_pos\n",
    "fpr,tpr,thresholds =roc_curve(y_test,y_pred_rcv_pos)"
   ]
  },
  {
   "cell_type": "code",
   "execution_count": 38,
   "id": "aabcf6d8",
   "metadata": {},
   "outputs": [
    {
     "data": {
      "application/javascript": [
       "\n",
       "        if (window._pyforest_update_imports_cell) { window._pyforest_update_imports_cell('import seaborn as sns\\nfrom sklearn.model_selection import train_test_split\\nimport matplotlib.pyplot as plt\\nfrom sklearn.model_selection import cross_val_score\\nimport pandas as pd'); }\n",
       "    "
      ],
      "text/plain": [
       "<IPython.core.display.Javascript object>"
      ]
     },
     "metadata": {},
     "output_type": "display_data"
    },
    {
     "data": {
      "application/javascript": [
       "\n",
       "        if (window._pyforest_update_imports_cell) { window._pyforest_update_imports_cell('import seaborn as sns\\nfrom sklearn.model_selection import train_test_split\\nimport matplotlib.pyplot as plt\\nfrom sklearn.model_selection import cross_val_score\\nimport pandas as pd'); }\n",
       "    "
      ],
      "text/plain": [
       "<IPython.core.display.Javascript object>"
      ]
     },
     "metadata": {},
     "output_type": "display_data"
    },
    {
     "data": {
      "application/javascript": [
       "\n",
       "        if (window._pyforest_update_imports_cell) { window._pyforest_update_imports_cell('import seaborn as sns\\nfrom sklearn.model_selection import train_test_split\\nimport matplotlib.pyplot as plt\\nfrom sklearn.model_selection import cross_val_score\\nimport pandas as pd'); }\n",
       "    "
      ],
      "text/plain": [
       "<IPython.core.display.Javascript object>"
      ]
     },
     "metadata": {},
     "output_type": "display_data"
    },
    {
     "data": {
      "application/javascript": [
       "\n",
       "        if (window._pyforest_update_imports_cell) { window._pyforest_update_imports_cell('import seaborn as sns\\nfrom sklearn.model_selection import train_test_split\\nimport matplotlib.pyplot as plt\\nfrom sklearn.model_selection import cross_val_score\\nimport pandas as pd'); }\n",
       "    "
      ],
      "text/plain": [
       "<IPython.core.display.Javascript object>"
      ]
     },
     "metadata": {},
     "output_type": "display_data"
    },
    {
     "data": {
      "application/javascript": [
       "\n",
       "        if (window._pyforest_update_imports_cell) { window._pyforest_update_imports_cell('import seaborn as sns\\nfrom sklearn.model_selection import train_test_split\\nimport matplotlib.pyplot as plt\\nfrom sklearn.model_selection import cross_val_score\\nimport pandas as pd'); }\n",
       "    "
      ],
      "text/plain": [
       "<IPython.core.display.Javascript object>"
      ]
     },
     "metadata": {},
     "output_type": "display_data"
    },
    {
     "data": {
      "application/javascript": [
       "\n",
       "        if (window._pyforest_update_imports_cell) { window._pyforest_update_imports_cell('import seaborn as sns\\nfrom sklearn.model_selection import train_test_split\\nimport matplotlib.pyplot as plt\\nfrom sklearn.model_selection import cross_val_score\\nimport pandas as pd'); }\n",
       "    "
      ],
      "text/plain": [
       "<IPython.core.display.Javascript object>"
      ]
     },
     "metadata": {},
     "output_type": "display_data"
    },
    {
     "data": {
      "application/javascript": [
       "\n",
       "        if (window._pyforest_update_imports_cell) { window._pyforest_update_imports_cell('import seaborn as sns\\nfrom sklearn.model_selection import train_test_split\\nimport matplotlib.pyplot as plt\\nfrom sklearn.model_selection import cross_val_score\\nimport pandas as pd'); }\n",
       "    "
      ],
      "text/plain": [
       "<IPython.core.display.Javascript object>"
      ]
     },
     "metadata": {},
     "output_type": "display_data"
    },
    {
     "data": {
      "image/png": "[encoded data removed]",
      "text/plain": [
       "<Figure size 432x288 with 1 Axes>"
      ]
     },
     "metadata": {
      "needs_background": "light"
     },
     "output_type": "display_data"
    }
   ],
   "source": [
    "fpr,tpr,thresholds =roc_curve(y_test,y_pred_rcv_pos)\n",
    "plt.plot([0,1],[0,1],color='blue',label='prediction',linewidth=2,linestyle='--')\n",
    "plt.xlabel('false positive rate')\n",
    "plt.plot(fpr,tpr ,color='green',label='roc_')\n",
    "plt.xlabel('false positive rate')\n",
    "plt.ylabel('true positive rate ')\n",
    "plt.legend()\n",
    "plt.show()"
   ]
  },
  {
   "cell_type": "code",
   "execution_count": 39,
   "id": "1818ad0b",
   "metadata": {},
   "outputs": [
    {
     "data": {
      "text/plain": [
       "array([0.74008351, 0.73643006, 0.75365344, 0.73629243, 0.27101828])"
      ]
     },
     "execution_count": 39,
     "metadata": {},
     "output_type": "execute_result"
    }
   ],
   "source": [
    "from sklearn.model_selection import cross_val_score\n",
    "cross_val_score(model_gen_g,x,y, cv=5)"
   ]
  },
  {
   "cell_type": "markdown",
   "id": "3ef06ec6",
   "metadata": {},
   "source": [
    "### over sampling or under sampling"
   ]
  },
  {
   "cell_type": "markdown",
   "id": "54237808",
   "metadata": {},
   "source": [
    "### smote"
   ]
  },
  {
   "cell_type": "code",
   "execution_count": 40,
   "id": "a9209553",
   "metadata": {},
   "outputs": [],
   "source": [
    "from imblearn.over_sampling import SMOTE\n",
    "os=SMOTE(sampling_strategy='minority')"
   ]
  },
  {
   "cell_type": "code",
   "execution_count": 41,
   "id": "f18caf34",
   "metadata": {},
   "outputs": [
    {
     "data": {
      "text/plain": [
       "(9578, 18)"
      ]
     },
     "execution_count": 41,
     "metadata": {},
     "output_type": "execute_result"
    }
   ],
   "source": [
    "x.shape"
   ]
  },
  {
   "cell_type": "code",
   "execution_count": 42,
   "id": "1d4f5b81",
   "metadata": {},
   "outputs": [
    {
     "data": {
      "text/plain": [
       "(9578,)"
      ]
     },
     "execution_count": 42,
     "metadata": {},
     "output_type": "execute_result"
    }
   ],
   "source": [
    "y.shape"
   ]
  },
  {
   "cell_type": "code",
   "execution_count": 43,
   "id": "048a049c",
   "metadata": {},
   "outputs": [],
   "source": [
    "x_sm,y_sm=os.fit_resample(x,y)"
   ]
  },
  {
   "cell_type": "code",
   "execution_count": 44,
   "id": "57af5edc",
   "metadata": {},
   "outputs": [
    {
     "data": {
      "text/plain": [
       "(16090, 18)"
      ]
     },
     "execution_count": 44,
     "metadata": {},
     "output_type": "execute_result"
    }
   ],
   "source": [
    "x_sm.shape"
   ]
  },
  {
   "cell_type": "code",
   "execution_count": 45,
   "id": "ed467056",
   "metadata": {},
   "outputs": [
    {
     "data": {
      "text/plain": [
       "0    8045\n",
       "1    8045\n",
       "Name: target, dtype: int64"
      ]
     },
     "execution_count": 45,
     "metadata": {},
     "output_type": "execute_result"
    }
   ],
   "source": [
    "y_sm.value_counts()"
   ]
  },
  {
   "cell_type": "code",
   "execution_count": 46,
   "id": "f47a9c15",
   "metadata": {},
   "outputs": [
    {
     "data": {
      "application/javascript": [
       "\n",
       "        if (window._pyforest_update_imports_cell) { window._pyforest_update_imports_cell('import seaborn as sns\\nfrom sklearn.model_selection import train_test_split\\nimport matplotlib.pyplot as plt\\nfrom sklearn.model_selection import cross_val_score\\nimport pandas as pd'); }\n",
       "    "
      ],
      "text/plain": [
       "<IPython.core.display.Javascript object>"
      ]
     },
     "metadata": {},
     "output_type": "display_data"
    }
   ],
   "source": [
    "X_train_sm,X_test_sm,y_train_sm,y_test_sm=train_test_split(x_sm,y_sm,test_size=0.3,random_state=42)"
   ]
  },
  {
   "cell_type": "code",
   "execution_count": 47,
   "id": "2f723dcf",
   "metadata": {},
   "outputs": [
    {
     "data": {
      "text/plain": [
       "0    2444\n",
       "1    2383\n",
       "Name: target, dtype: int64"
      ]
     },
     "execution_count": 47,
     "metadata": {},
     "output_type": "execute_result"
    }
   ],
   "source": [
    "y_test_sm.value_counts()"
   ]
  },
  {
   "cell_type": "code",
   "execution_count": 48,
   "id": "69cefa9b",
   "metadata": {},
   "outputs": [
    {
     "data": {
      "text/plain": [
       "1    5662\n",
       "0    5601\n",
       "Name: target, dtype: int64"
      ]
     },
     "execution_count": 48,
     "metadata": {},
     "output_type": "execute_result"
    }
   ],
   "source": [
    "y_train_sm.value_counts()"
   ]
  },
  {
   "cell_type": "code",
   "execution_count": null,
   "id": "37ad1806",
   "metadata": {},
   "outputs": [],
   "source": []
  },
  {
   "cell_type": "markdown",
   "id": "39691be1",
   "metadata": {},
   "source": [
    "### now these are to be balanced"
   ]
  },
  {
   "cell_type": "code",
   "execution_count": 49,
   "id": "24a36d24",
   "metadata": {},
   "outputs": [],
   "source": [
    "model_s=tree.DecisionTreeClassifier(criterion='gini',random_state=42)"
   ]
  },
  {
   "cell_type": "code",
   "execution_count": 50,
   "id": "0977cc4d",
   "metadata": {},
   "outputs": [
    {
     "data": {
      "text/plain": [
       "DecisionTreeClassifier(random_state=42)"
      ]
     },
     "execution_count": 50,
     "metadata": {},
     "output_type": "execute_result"
    }
   ],
   "source": [
    "model_s.fit(X_train_sm,y_train_sm)"
   ]
  },
  {
   "cell_type": "code",
   "execution_count": 139,
   "id": "ae78dc0c",
   "metadata": {},
   "outputs": [
    {
     "data": {
      "text/plain": [
       "array([0.74008351, 0.73643006, 0.75365344, 0.73629243, 0.27101828])"
      ]
     },
     "execution_count": 139,
     "metadata": {},
     "output_type": "execute_result"
    }
   ],
   "source": [
    " cross_val_score(model_s,x,y, cv=5)"
   ]
  },
  {
   "cell_type": "code",
   "execution_count": 51,
   "id": "abd403c4",
   "metadata": {},
   "outputs": [],
   "source": [
    "def compare_model_train_test(model_s):\n",
    "    y_train_pred = model_s.predict(X_train_sm)\n",
    "    y_test_pred = model_s.predict(X_test_sm)\n",
    "    train_accuracy = accuracy_score(y_train_sm, y_train_pred)\n",
    "    test_accuracy = accuracy_score(y_test_sm, y_test_pred)\n",
    "    train_clf_report = classification_report(y_train_sm, y_train_pred)\n",
    "    test_clf_report = classification_report(y_test_sm, y_test_pred)\n",
    "    print('Training accuracy is :', train_accuracy, '\\n', train_clf_report, '\\n',\n",
    "         'Testing accuracy is :', round(test_accuracy,2), '\\n', test_clf_report, '\\n' )"
   ]
  },
  {
   "cell_type": "code",
   "execution_count": 52,
   "id": "fbe07183",
   "metadata": {},
   "outputs": [
    {
     "name": "stdout",
     "output_type": "stream",
     "text": [
      "Training accuracy is : 1.0 \n",
      "               precision    recall  f1-score   support\n",
      "\n",
      "           0       1.00      1.00      1.00      5601\n",
      "           1       1.00      1.00      1.00      5662\n",
      "\n",
      "    accuracy                           1.00     11263\n",
      "   macro avg       1.00      1.00      1.00     11263\n",
      "weighted avg       1.00      1.00      1.00     11263\n",
      " \n",
      " Testing accuracy is : 0.77 \n",
      "               precision    recall  f1-score   support\n",
      "\n",
      "           0       0.78      0.75      0.76      2444\n",
      "           1       0.75      0.79      0.77      2383\n",
      "\n",
      "    accuracy                           0.77      4827\n",
      "   macro avg       0.77      0.77      0.77      4827\n",
      "weighted avg       0.77      0.77      0.77      4827\n",
      " \n",
      "\n"
     ]
    }
   ],
   "source": [
    "compare_model_train_test(model_s)"
   ]
  },
  {
   "cell_type": "code",
   "execution_count": 53,
   "id": "84f8b17e",
   "metadata": {},
   "outputs": [
    {
     "name": "stdout",
     "output_type": "stream",
     "text": [
      "Note: you may need to restart the kernel to use updated packages.\n"
     ]
    },
    {
     "name": "stderr",
     "output_type": "stream",
     "text": [
      "ERROR: Could not find a version that satisfies the requirement InformationValue\n",
      "ERROR: No matching distribution found for InformationValue\n"
     ]
    }
   ],
   "source": [
    "pip install InformationValue"
   ]
  },
  {
   "cell_type": "markdown",
   "id": "429c86ed",
   "metadata": {},
   "source": [
    "### train"
   ]
  },
  {
   "cell_type": "code",
   "execution_count": 54,
   "id": "34719ad4",
   "metadata": {},
   "outputs": [
    {
     "name": "stdout",
     "output_type": "stream",
     "text": [
      "Acc: 100.00%\n",
      "Precision: 1.00\n",
      "Recall: 1.00\n",
      "F1 score: 1.00\n"
     ]
    }
   ],
   "source": [
    "y_pred_s_train=model_s.predict(X_train_sm)\n",
    "model_sm = evaluate_preds(y_train_sm, y_pred_s_train)"
   ]
  },
  {
   "cell_type": "code",
   "execution_count": 55,
   "id": "0d331f77",
   "metadata": {},
   "outputs": [
    {
     "data": {
      "text/plain": [
       "array([[5601,    0],\n",
       "       [   0, 5662]], dtype=int64)"
      ]
     },
     "execution_count": 55,
     "metadata": {},
     "output_type": "execute_result"
    }
   ],
   "source": [
    "cm_train_sm=confusion_matrix(y_pred_s_train,y_pred_s_train)\n",
    "cm_train_sm"
   ]
  },
  {
   "cell_type": "code",
   "execution_count": 56,
   "id": "ffa76b0a",
   "metadata": {},
   "outputs": [
    {
     "data": {
      "application/javascript": [
       "\n",
       "        if (window._pyforest_update_imports_cell) { window._pyforest_update_imports_cell('import seaborn as sns\\nfrom sklearn.model_selection import train_test_split\\nimport matplotlib.pyplot as plt\\nfrom sklearn.model_selection import cross_val_score\\nimport pandas as pd'); }\n",
       "    "
      ],
      "text/plain": [
       "<IPython.core.display.Javascript object>"
      ]
     },
     "metadata": {},
     "output_type": "display_data"
    },
    {
     "data": {
      "text/plain": [
       "<AxesSubplot:>"
      ]
     },
     "execution_count": 56,
     "metadata": {},
     "output_type": "execute_result"
    },
    {
     "data": {
      "image/png": "[encoded data removed]",
      "text/plain": [
       "<Figure size 432x288 with 2 Axes>"
      ]
     },
     "metadata": {
      "needs_background": "light"
     },
     "output_type": "display_data"
    }
   ],
   "source": [
    "sns.heatmap(cm_train_sm,annot=True, fmt='g')"
   ]
  },
  {
   "cell_type": "markdown",
   "id": "e18d8063",
   "metadata": {},
   "source": [
    "### test"
   ]
  },
  {
   "cell_type": "code",
   "execution_count": 57,
   "id": "5f9014b9",
   "metadata": {},
   "outputs": [
    {
     "name": "stdout",
     "output_type": "stream",
     "text": [
      "Acc: 76.76%\n",
      "Precision: 0.75\n",
      "Recall: 0.79\n",
      "F1 score: 0.77\n"
     ]
    }
   ],
   "source": [
    "y_pred_s=model_s.predict(X_test_sm)\n",
    "model_sm = evaluate_preds(y_test_sm, y_pred_s)"
   ]
  },
  {
   "cell_type": "code",
   "execution_count": 58,
   "id": "cf6d170c",
   "metadata": {},
   "outputs": [
    {
     "data": {
      "text/plain": [
       "array([[1823,  621],\n",
       "       [ 501, 1882]], dtype=int64)"
      ]
     },
     "execution_count": 58,
     "metadata": {},
     "output_type": "execute_result"
    }
   ],
   "source": [
    "cm_test_sm=confusion_matrix(y_test_sm,y_pred_s)\n",
    "cm_test_sm"
   ]
  },
  {
   "cell_type": "code",
   "execution_count": 59,
   "id": "b6c756d1",
   "metadata": {},
   "outputs": [
    {
     "data": {
      "application/javascript": [
       "\n",
       "        if (window._pyforest_update_imports_cell) { window._pyforest_update_imports_cell('import seaborn as sns\\nfrom sklearn.model_selection import train_test_split\\nimport matplotlib.pyplot as plt\\nfrom sklearn.model_selection import cross_val_score\\nimport pandas as pd'); }\n",
       "    "
      ],
      "text/plain": [
       "<IPython.core.display.Javascript object>"
      ]
     },
     "metadata": {},
     "output_type": "display_data"
    },
    {
     "data": {
      "text/plain": [
       "<AxesSubplot:>"
      ]
     },
     "execution_count": 59,
     "metadata": {},
     "output_type": "execute_result"
    },
    {
     "data": {
      "image/png": "[encoded data removed]",
      "text/plain": [
       "<Figure size 432x288 with 2 Axes>"
      ]
     },
     "metadata": {
      "needs_background": "light"
     },
     "output_type": "display_data"
    }
   ],
   "source": [
    "sns.heatmap(cm_test_sm,annot=True, fmt='g')"
   ]
  },
  {
   "cell_type": "code",
   "execution_count": 60,
   "id": "b9180760",
   "metadata": {},
   "outputs": [],
   "source": [
    "def evaluate_preds(y_test, y_test_pred):\n",
    "    \"\"\"\n",
    "    Performs evaluation comparison on y_true labels vs. y_pred labels.\n",
    "    \"\"\"\n",
    "    accuracy = accuracy_score(y_test, y_test_pred)\n",
    "    precision = precision_score(y_test, y_test_pred)\n",
    "    recall = recall_score(y_test, y_test_pred)\n",
    "    f1 = f1_score(y_test, y_test_pred)\n",
    "    metric_dict = {\"accuracy\": round(accuracy, 2),\n",
    "                   \"precision\": round(precision, 2), \n",
    "                   \"recall\": round(recall, 2),\n",
    "                   \"f1\": round(f1, 2)}\n",
    "    print(f\"Acc: {accuracy * 100:.2f}%\")\n",
    "    print(f\"Precision: {precision:.2f}\")\n",
    "    print(f\"Recall: {recall:.2f}\")\n",
    "    print(f\"F1 score: {f1:.2f}\") \n",
    "\n",
    "    return metric_dict"
   ]
  },
  {
   "cell_type": "code",
   "execution_count": null,
   "id": "5d884433",
   "metadata": {},
   "outputs": [],
   "source": [
    " "
   ]
  },
  {
   "cell_type": "code",
   "execution_count": 61,
   "id": "cd62ef76",
   "metadata": {},
   "outputs": [],
   "source": [
    "y_pred_rcv=model_s.predict_proba(X_test_sm)\n",
    "y_pred_rcv_pos=y_pred_rcv[:,1]##taking positive probabilities\n",
    "y_pred_rcv_pos\n",
    "fpr,tpr,thresholds =roc_curve(y_test_sm,y_pred_rcv_pos)"
   ]
  },
  {
   "cell_type": "code",
   "execution_count": 62,
   "id": "02a5fd98",
   "metadata": {},
   "outputs": [
    {
     "data": {
      "application/javascript": [
       "\n",
       "        if (window._pyforest_update_imports_cell) { window._pyforest_update_imports_cell('import seaborn as sns\\nfrom sklearn.model_selection import train_test_split\\nimport matplotlib.pyplot as plt\\nfrom sklearn.model_selection import cross_val_score\\nimport pandas as pd'); }\n",
       "    "
      ],
      "text/plain": [
       "<IPython.core.display.Javascript object>"
      ]
     },
     "metadata": {},
     "output_type": "display_data"
    },
    {
     "data": {
      "application/javascript": [
       "\n",
       "        if (window._pyforest_update_imports_cell) { window._pyforest_update_imports_cell('import seaborn as sns\\nfrom sklearn.model_selection import train_test_split\\nimport matplotlib.pyplot as plt\\nfrom sklearn.model_selection import cross_val_score\\nimport pandas as pd'); }\n",
       "    "
      ],
      "text/plain": [
       "<IPython.core.display.Javascript object>"
      ]
     },
     "metadata": {},
     "output_type": "display_data"
    },
    {
     "data": {
      "application/javascript": [
       "\n",
       "        if (window._pyforest_update_imports_cell) { window._pyforest_update_imports_cell('import seaborn as sns\\nfrom sklearn.model_selection import train_test_split\\nimport matplotlib.pyplot as plt\\nfrom sklearn.model_selection import cross_val_score\\nimport pandas as pd'); }\n",
       "    "
      ],
      "text/plain": [
       "<IPython.core.display.Javascript object>"
      ]
     },
     "metadata": {},
     "output_type": "display_data"
    },
    {
     "data": {
      "application/javascript": [
       "\n",
       "        if (window._pyforest_update_imports_cell) { window._pyforest_update_imports_cell('import seaborn as sns\\nfrom sklearn.model_selection import train_test_split\\nimport matplotlib.pyplot as plt\\nfrom sklearn.model_selection import cross_val_score\\nimport pandas as pd'); }\n",
       "    "
      ],
      "text/plain": [
       "<IPython.core.display.Javascript object>"
      ]
     },
     "metadata": {},
     "output_type": "display_data"
    },
    {
     "data": {
      "application/javascript": [
       "\n",
       "        if (window._pyforest_update_imports_cell) { window._pyforest_update_imports_cell('import seaborn as sns\\nfrom sklearn.model_selection import train_test_split\\nimport matplotlib.pyplot as plt\\nfrom sklearn.model_selection import cross_val_score\\nimport pandas as pd'); }\n",
       "    "
      ],
      "text/plain": [
       "<IPython.core.display.Javascript object>"
      ]
     },
     "metadata": {},
     "output_type": "display_data"
    },
    {
     "data": {
      "application/javascript": [
       "\n",
       "        if (window._pyforest_update_imports_cell) { window._pyforest_update_imports_cell('import seaborn as sns\\nfrom sklearn.model_selection import train_test_split\\nimport matplotlib.pyplot as plt\\nfrom sklearn.model_selection import cross_val_score\\nimport pandas as pd'); }\n",
       "    "
      ],
      "text/plain": [
       "<IPython.core.display.Javascript object>"
      ]
     },
     "metadata": {},
     "output_type": "display_data"
    },
    {
     "data": {
      "application/javascript": [
       "\n",
       "        if (window._pyforest_update_imports_cell) { window._pyforest_update_imports_cell('import seaborn as sns\\nfrom sklearn.model_selection import train_test_split\\nimport matplotlib.pyplot as plt\\nfrom sklearn.model_selection import cross_val_score\\nimport pandas as pd'); }\n",
       "    "
      ],
      "text/plain": [
       "<IPython.core.display.Javascript object>"
      ]
     },
     "metadata": {},
     "output_type": "display_data"
    },
    {
     "data": {
      "image/png": "[encoded data removed]",
      "text/plain": [
       "<Figure size 432x288 with 1 Axes>"
      ]
     },
     "metadata": {
      "needs_background": "light"
     },
     "output_type": "display_data"
    }
   ],
   "source": [
    "fpr,tpr,thresholds =roc_curve(y_test_sm,y_pred_rcv_pos)\n",
    "plt.plot([0,1],[0,1],color='blue',label='prediction',linewidth=2,linestyle='--')\n",
    "plt.xlabel('false positive rate')\n",
    "plt.plot(fpr,tpr ,color='green',label='roc_')\n",
    "plt.xlabel('false positive rate')\n",
    "plt.ylabel('true positive rate ')\n",
    "plt.legend()\n",
    "plt.show()"
   ]
  },
  {
   "cell_type": "code",
   "execution_count": 63,
   "id": "d60dd80f",
   "metadata": {},
   "outputs": [
    {
     "data": {
      "text/plain": [
       "0.7678345763396344"
      ]
     },
     "execution_count": 63,
     "metadata": {},
     "output_type": "execute_result"
    }
   ],
   "source": [
    "roc_auc_score(y_test_sm,y_pred_s)"
   ]
  },
  {
   "cell_type": "code",
   "execution_count": null,
   "id": "7f2cca05",
   "metadata": {},
   "outputs": [],
   "source": []
  },
  {
   "cell_type": "markdown",
   "id": "b0ea9abc",
   "metadata": {},
   "source": [
    "### over sampling using the random oversampler"
   ]
  },
  {
   "cell_type": "code",
   "execution_count": 64,
   "id": "af3d1319",
   "metadata": {},
   "outputs": [],
   "source": [
    "from imblearn import over_sampling,under_sampling\n",
    "from imblearn.over_sampling import RandomOverSampler"
   ]
  },
  {
   "cell_type": "code",
   "execution_count": 65,
   "id": "e10befe8",
   "metadata": {},
   "outputs": [],
   "source": [
    "ros=RandomOverSampler( sampling_strategy='minority')\n",
    "x_ros,y_ros=ros.fit_resample(x,y)"
   ]
  },
  {
   "cell_type": "code",
   "execution_count": null,
   "id": "92acd777",
   "metadata": {},
   "outputs": [],
   "source": []
  },
  {
   "cell_type": "code",
   "execution_count": 66,
   "id": "6d2cc54c",
   "metadata": {},
   "outputs": [
    {
     "data": {
      "application/javascript": [
       "\n",
       "        if (window._pyforest_update_imports_cell) { window._pyforest_update_imports_cell('import seaborn as sns\\nfrom sklearn.model_selection import train_test_split\\nimport matplotlib.pyplot as plt\\nfrom sklearn.model_selection import cross_val_score\\nimport pandas as pd'); }\n",
       "    "
      ],
      "text/plain": [
       "<IPython.core.display.Javascript object>"
      ]
     },
     "metadata": {},
     "output_type": "display_data"
    }
   ],
   "source": [
    "X_train_ros,X_test_ros,y_train_ros,y_test_ros=train_test_split(x_ros,y_ros,test_size=0.3,random_state=42)"
   ]
  },
  {
   "cell_type": "code",
   "execution_count": 67,
   "id": "0c94ec11",
   "metadata": {},
   "outputs": [
    {
     "data": {
      "text/plain": [
       "0    2444\n",
       "1    2383\n",
       "Name: target, dtype: int64"
      ]
     },
     "execution_count": 67,
     "metadata": {},
     "output_type": "execute_result"
    }
   ],
   "source": [
    "y_test_ros.value_counts()"
   ]
  },
  {
   "cell_type": "code",
   "execution_count": 68,
   "id": "4f8da966",
   "metadata": {},
   "outputs": [
    {
     "data": {
      "text/plain": [
       "1    5662\n",
       "0    5601\n",
       "Name: target, dtype: int64"
      ]
     },
     "execution_count": 68,
     "metadata": {},
     "output_type": "execute_result"
    }
   ],
   "source": [
    "y_train_ros.value_counts()"
   ]
  },
  {
   "cell_type": "code",
   "execution_count": 69,
   "id": "b0b5e854",
   "metadata": {},
   "outputs": [],
   "source": [
    "model_ros_s=tree.DecisionTreeClassifier(criterion='gini',random_state=42)"
   ]
  },
  {
   "cell_type": "code",
   "execution_count": 70,
   "id": "9384c785",
   "metadata": {},
   "outputs": [
    {
     "data": {
      "text/plain": [
       "DecisionTreeClassifier(random_state=42)"
      ]
     },
     "execution_count": 70,
     "metadata": {},
     "output_type": "execute_result"
    }
   ],
   "source": [
    "model_ros_s.fit(X_train_ros,y_train_ros)"
   ]
  },
  {
   "cell_type": "code",
   "execution_count": 71,
   "id": "0936c2d6",
   "metadata": {},
   "outputs": [],
   "source": [
    "def compare_model_train_test(model_ros):\n",
    "    y_train_pred = model_ros_s.predict(X_train_ros)\n",
    "    y_test_pred = model_ros_s.predict(X_test_ros)\n",
    "    train_accuracy = accuracy_score(y_train_ros, y_train_pred)\n",
    "    test_accuracy = accuracy_score(y_test_ros, y_test_pred)\n",
    "    train_clf_report = classification_report(y_train_ros, y_train_pred)\n",
    "    test_clf_report = classification_report(y_test_ros, y_test_pred)\n",
    "    print('Training accuracy is :', train_accuracy, '\\n', train_clf_report, '\\n',\n",
    "         'Testing accuracy is :', round(test_accuracy,2), '\\n', test_clf_report, '\\n' )"
   ]
  },
  {
   "cell_type": "code",
   "execution_count": 72,
   "id": "9a6b6313",
   "metadata": {},
   "outputs": [
    {
     "name": "stdout",
     "output_type": "stream",
     "text": [
      "Training accuracy is : 1.0 \n",
      "               precision    recall  f1-score   support\n",
      "\n",
      "           0       1.00      1.00      1.00      5601\n",
      "           1       1.00      1.00      1.00      5662\n",
      "\n",
      "    accuracy                           1.00     11263\n",
      "   macro avg       1.00      1.00      1.00     11263\n",
      "weighted avg       1.00      1.00      1.00     11263\n",
      " \n",
      " Testing accuracy is : 0.89 \n",
      "               precision    recall  f1-score   support\n",
      "\n",
      "           0       0.98      0.80      0.88      2444\n",
      "           1       0.83      0.99      0.90      2383\n",
      "\n",
      "    accuracy                           0.89      4827\n",
      "   macro avg       0.90      0.89      0.89      4827\n",
      "weighted avg       0.90      0.89      0.89      4827\n",
      " \n",
      "\n"
     ]
    }
   ],
   "source": [
    "compare_model_train_test(model_ros_s)"
   ]
  },
  {
   "cell_type": "markdown",
   "id": "bcda4b8d",
   "metadata": {},
   "source": [
    "### train"
   ]
  },
  {
   "cell_type": "code",
   "execution_count": 73,
   "id": "105768a6",
   "metadata": {},
   "outputs": [
    {
     "data": {
      "text/plain": [
       "array([[5601,    0],\n",
       "       [   0, 5662]], dtype=int64)"
      ]
     },
     "execution_count": 73,
     "metadata": {},
     "output_type": "execute_result"
    }
   ],
   "source": [
    "y_pred_s_train_ros=model_ros_s.predict(X_train_ros)\n",
    "cm_train_ros=confusion_matrix(y_pred_s_train_ros,y_pred_s_train_ros)\n",
    "cm_train_ros"
   ]
  },
  {
   "cell_type": "code",
   "execution_count": 74,
   "id": "bbd35c94",
   "metadata": {},
   "outputs": [
    {
     "data": {
      "application/javascript": [
       "\n",
       "        if (window._pyforest_update_imports_cell) { window._pyforest_update_imports_cell('import seaborn as sns\\nfrom sklearn.model_selection import train_test_split\\nimport matplotlib.pyplot as plt\\nfrom sklearn.model_selection import cross_val_score\\nimport pandas as pd'); }\n",
       "    "
      ],
      "text/plain": [
       "<IPython.core.display.Javascript object>"
      ]
     },
     "metadata": {},
     "output_type": "display_data"
    },
    {
     "data": {
      "text/plain": [
       "<AxesSubplot:>"
      ]
     },
     "execution_count": 74,
     "metadata": {},
     "output_type": "execute_result"
    },
    {
     "data": {
      "image/png": "[encoded data removed]",
      "text/plain": [
       "<Figure size 432x288 with 2 Axes>"
      ]
     },
     "metadata": {
      "needs_background": "light"
     },
     "output_type": "display_data"
    }
   ],
   "source": [
    " sns.heatmap(cm_train_ros,annot=True, fmt='g')"
   ]
  },
  {
   "cell_type": "markdown",
   "id": "ccff80fe",
   "metadata": {},
   "source": [
    "### test"
   ]
  },
  {
   "cell_type": "code",
   "execution_count": 75,
   "id": "f1de9ebd",
   "metadata": {},
   "outputs": [
    {
     "data": {
      "text/plain": [
       "array([[1946,  498],\n",
       "       [  35, 2348]], dtype=int64)"
      ]
     },
     "execution_count": 75,
     "metadata": {},
     "output_type": "execute_result"
    }
   ],
   "source": [
    "y_pred_s_test_ros=model_ros_s.predict(X_test_ros)\n",
    "cm_test_ros=confusion_matrix(y_test_ros,y_pred_s_test_ros)\n",
    "cm_test_ros"
   ]
  },
  {
   "cell_type": "code",
   "execution_count": 76,
   "id": "e1bb4c46",
   "metadata": {},
   "outputs": [
    {
     "data": {
      "application/javascript": [
       "\n",
       "        if (window._pyforest_update_imports_cell) { window._pyforest_update_imports_cell('import seaborn as sns\\nfrom sklearn.model_selection import train_test_split\\nimport matplotlib.pyplot as plt\\nfrom sklearn.model_selection import cross_val_score\\nimport pandas as pd'); }\n",
       "    "
      ],
      "text/plain": [
       "<IPython.core.display.Javascript object>"
      ]
     },
     "metadata": {},
     "output_type": "display_data"
    },
    {
     "data": {
      "text/plain": [
       "<AxesSubplot:>"
      ]
     },
     "execution_count": 76,
     "metadata": {},
     "output_type": "execute_result"
    },
    {
     "data": {
      "image/png": "[encoded data removed]",
      "text/plain": [
       "<Figure size 432x288 with 2 Axes>"
      ]
     },
     "metadata": {
      "needs_background": "light"
     },
     "output_type": "display_data"
    }
   ],
   "source": [
    "sns.heatmap(cm_test_ros,annot=True, fmt='g')"
   ]
  },
  {
   "cell_type": "code",
   "execution_count": null,
   "id": "ae2f28f2",
   "metadata": {},
   "outputs": [],
   "source": []
  },
  {
   "cell_type": "code",
   "execution_count": 77,
   "id": "f3155d42",
   "metadata": {},
   "outputs": [],
   "source": [
    "y_pred_ros=model_ros_s.predict(X_test_ros)"
   ]
  },
  {
   "cell_type": "code",
   "execution_count": 78,
   "id": "465b3994",
   "metadata": {},
   "outputs": [],
   "source": [
    "def evaluate_preds(y_test, y_test_pred):\n",
    "    \"\"\"\n",
    "    Performs evaluation comparison on y_true labels vs. y_pred labels.\n",
    "    \"\"\"\n",
    "    accuracy = accuracy_score(y_test, y_test_pred)\n",
    "    precision = precision_score(y_test, y_test_pred)\n",
    "    recall = recall_score(y_test, y_test_pred)\n",
    "    f1 = f1_score(y_test, y_test_pred)\n",
    "    metric_dict = {\"accuracy\": round(accuracy, 2),\n",
    "                   \"precision\": round(precision, 2), \n",
    "                   \"recall\": round(recall, 2),\n",
    "                   \"f1\": round(f1, 2)}\n",
    "    print(f\"Acc: {accuracy * 100:.2f}%\")\n",
    "    print(f\"Precision: {precision:.2f}\")\n",
    "    print(f\"Recall: {recall:.2f}\")\n",
    "    print(f\"F1 score: {f1:.2f}\") \n",
    "\n",
    "    return metric_dict"
   ]
  },
  {
   "cell_type": "code",
   "execution_count": 79,
   "id": "18e1662b",
   "metadata": {},
   "outputs": [
    {
     "name": "stdout",
     "output_type": "stream",
     "text": [
      "Acc: 88.96%\n",
      "Precision: 0.83\n",
      "Recall: 0.99\n",
      "F1 score: 0.90\n"
     ]
    }
   ],
   "source": [
    "\n",
    "model_ros = evaluate_preds(y_test_ros, y_pred_ros)"
   ]
  },
  {
   "cell_type": "code",
   "execution_count": 80,
   "id": "db27ea72",
   "metadata": {},
   "outputs": [],
   "source": [
    "y_pred_rcv=model_ros_s.predict_proba(X_test_ros)\n",
    "y_pred_rcv_pos=y_pred_rcv[:,1]##taking positive probabilities\n",
    "y_pred_rcv_pos\n",
    "fpr,tpr,thresholds =roc_curve(y_test_ros,y_pred_rcv_pos)"
   ]
  },
  {
   "cell_type": "code",
   "execution_count": 81,
   "id": "6419938a",
   "metadata": {},
   "outputs": [
    {
     "data": {
      "application/javascript": [
       "\n",
       "        if (window._pyforest_update_imports_cell) { window._pyforest_update_imports_cell('import seaborn as sns\\nfrom sklearn.model_selection import train_test_split\\nimport matplotlib.pyplot as plt\\nfrom sklearn.model_selection import cross_val_score\\nimport pandas as pd'); }\n",
       "    "
      ],
      "text/plain": [
       "<IPython.core.display.Javascript object>"
      ]
     },
     "metadata": {},
     "output_type": "display_data"
    },
    {
     "data": {
      "application/javascript": [
       "\n",
       "        if (window._pyforest_update_imports_cell) { window._pyforest_update_imports_cell('import seaborn as sns\\nfrom sklearn.model_selection import train_test_split\\nimport matplotlib.pyplot as plt\\nfrom sklearn.model_selection import cross_val_score\\nimport pandas as pd'); }\n",
       "    "
      ],
      "text/plain": [
       "<IPython.core.display.Javascript object>"
      ]
     },
     "metadata": {},
     "output_type": "display_data"
    },
    {
     "data": {
      "application/javascript": [
       "\n",
       "        if (window._pyforest_update_imports_cell) { window._pyforest_update_imports_cell('import seaborn as sns\\nfrom sklearn.model_selection import train_test_split\\nimport matplotlib.pyplot as plt\\nfrom sklearn.model_selection import cross_val_score\\nimport pandas as pd'); }\n",
       "    "
      ],
      "text/plain": [
       "<IPython.core.display.Javascript object>"
      ]
     },
     "metadata": {},
     "output_type": "display_data"
    },
    {
     "data": {
      "application/javascript": [
       "\n",
       "        if (window._pyforest_update_imports_cell) { window._pyforest_update_imports_cell('import seaborn as sns\\nfrom sklearn.model_selection import train_test_split\\nimport matplotlib.pyplot as plt\\nfrom sklearn.model_selection import cross_val_score\\nimport pandas as pd'); }\n",
       "    "
      ],
      "text/plain": [
       "<IPython.core.display.Javascript object>"
      ]
     },
     "metadata": {},
     "output_type": "display_data"
    },
    {
     "data": {
      "application/javascript": [
       "\n",
       "        if (window._pyforest_update_imports_cell) { window._pyforest_update_imports_cell('import seaborn as sns\\nfrom sklearn.model_selection import train_test_split\\nimport matplotlib.pyplot as plt\\nfrom sklearn.model_selection import cross_val_score\\nimport pandas as pd'); }\n",
       "    "
      ],
      "text/plain": [
       "<IPython.core.display.Javascript object>"
      ]
     },
     "metadata": {},
     "output_type": "display_data"
    },
    {
     "data": {
      "application/javascript": [
       "\n",
       "        if (window._pyforest_update_imports_cell) { window._pyforest_update_imports_cell('import seaborn as sns\\nfrom sklearn.model_selection import train_test_split\\nimport matplotlib.pyplot as plt\\nfrom sklearn.model_selection import cross_val_score\\nimport pandas as pd'); }\n",
       "    "
      ],
      "text/plain": [
       "<IPython.core.display.Javascript object>"
      ]
     },
     "metadata": {},
     "output_type": "display_data"
    },
    {
     "data": {
      "application/javascript": [
       "\n",
       "        if (window._pyforest_update_imports_cell) { window._pyforest_update_imports_cell('import seaborn as sns\\nfrom sklearn.model_selection import train_test_split\\nimport matplotlib.pyplot as plt\\nfrom sklearn.model_selection import cross_val_score\\nimport pandas as pd'); }\n",
       "    "
      ],
      "text/plain": [
       "<IPython.core.display.Javascript object>"
      ]
     },
     "metadata": {},
     "output_type": "display_data"
    },
    {
     "data": {
      "image/png": "[encoded data removed]",
      "text/plain": [
       "<Figure size 432x288 with 1 Axes>"
      ]
     },
     "metadata": {
      "needs_background": "light"
     },
     "output_type": "display_data"
    }
   ],
   "source": [
    "fpr,tpr,thresholds =roc_curve(y_test_ros,y_pred_rcv_pos)\n",
    "plt.plot([0,1],[0,1],color='blue',label='prediction',linewidth=2,linestyle='--')\n",
    "plt.xlabel('false positive rate')\n",
    "plt.plot(fpr,tpr ,color='green',label='roc_')\n",
    "plt.xlabel('false positive rate')\n",
    "plt.ylabel('true positive rate ')\n",
    "plt.legend()\n",
    "plt.show()"
   ]
  },
  {
   "cell_type": "code",
   "execution_count": 82,
   "id": "87ef98f5",
   "metadata": {},
   "outputs": [
    {
     "data": {
      "text/plain": [
       "0.8907741551758124"
      ]
     },
     "execution_count": 82,
     "metadata": {},
     "output_type": "execute_result"
    }
   ],
   "source": [
    "roc_auc_score(y_test_ros,y_pred_rcv_pos)"
   ]
  },
  {
   "cell_type": "code",
   "execution_count": 140,
   "id": "184a434b",
   "metadata": {},
   "outputs": [
    {
     "data": {
      "text/plain": [
       "array([0.74008351, 0.73643006, 0.75365344, 0.73629243, 0.27101828])"
      ]
     },
     "execution_count": 140,
     "metadata": {},
     "output_type": "execute_result"
    }
   ],
   "source": [
    "cross_val_score(model_ros_s,x,y, cv=5)"
   ]
  },
  {
   "cell_type": "markdown",
   "id": "f2780b2e",
   "metadata": {},
   "source": [
    "### post-PRUNING(on oversampling data)............"
   ]
  },
  {
   "cell_type": "code",
   "execution_count": 83,
   "id": "376df6d7",
   "metadata": {},
   "outputs": [
    {
     "name": "stdout",
     "output_type": "stream",
     "text": [
      "727\n"
     ]
    }
   ],
   "source": [
    "model=tree.DecisionTreeClassifier(ccp_alpha=0.0,random_state=42)\n",
    "###its defualt is o for giving better alpha our model should be increased\n",
    "###firstly we take best alpha value\n",
    "path=model.cost_complexity_pruning_path(X_train_ros,y_train_ros)\n",
    "path\n",
    "ccp_alphas=path.ccp_alphas\n",
    "print(len(ccp_alphas))\n",
    "ccp_alphas;"
   ]
  },
  {
   "cell_type": "code",
   "execution_count": 84,
   "id": "08dff726",
   "metadata": {},
   "outputs": [],
   "source": [
    "l=[]\n",
    "for k in ccp_alphas:\n",
    "    model_p=tree.DecisionTreeClassifier(ccp_alpha=k,random_state=42)\n",
    "    model_p.fit(X_train_ros,y_train_ros)\n",
    "    l.append(model_p)### we are taking alpha for every in decision tree"
   ]
  },
  {
   "cell_type": "code",
   "execution_count": 85,
   "id": "37333632",
   "metadata": {},
   "outputs": [],
   "source": [
    "test_scores=[model_p.score(X_test_ros,y_test_ros) for model_p in l]\n",
    "test_scores;"
   ]
  },
  {
   "cell_type": "code",
   "execution_count": 86,
   "id": "76d2a208",
   "metadata": {},
   "outputs": [],
   "source": [
    "train_scores=[model_p.score(X_train_ros,y_train_ros) for model_p in l]\n",
    "train_scores;"
   ]
  },
  {
   "cell_type": "code",
   "execution_count": 87,
   "id": "2be0447c",
   "metadata": {},
   "outputs": [
    {
     "data": {
      "application/javascript": [
       "\n",
       "        if (window._pyforest_update_imports_cell) { window._pyforest_update_imports_cell('import seaborn as sns\\nfrom sklearn.model_selection import train_test_split\\nimport matplotlib.pyplot as plt\\nfrom sklearn.model_selection import cross_val_score\\nimport pandas as pd'); }\n",
       "    "
      ],
      "text/plain": [
       "<IPython.core.display.Javascript object>"
      ]
     },
     "metadata": {},
     "output_type": "display_data"
    },
    {
     "data": {
      "application/javascript": [
       "\n",
       "        if (window._pyforest_update_imports_cell) { window._pyforest_update_imports_cell('import seaborn as sns\\nfrom sklearn.model_selection import train_test_split\\nimport matplotlib.pyplot as plt\\nfrom sklearn.model_selection import cross_val_score\\nimport pandas as pd'); }\n",
       "    "
      ],
      "text/plain": [
       "<IPython.core.display.Javascript object>"
      ]
     },
     "metadata": {},
     "output_type": "display_data"
    },
    {
     "data": {
      "application/javascript": [
       "\n",
       "        if (window._pyforest_update_imports_cell) { window._pyforest_update_imports_cell('import seaborn as sns\\nfrom sklearn.model_selection import train_test_split\\nimport matplotlib.pyplot as plt\\nfrom sklearn.model_selection import cross_val_score\\nimport pandas as pd'); }\n",
       "    "
      ],
      "text/plain": [
       "<IPython.core.display.Javascript object>"
      ]
     },
     "metadata": {},
     "output_type": "display_data"
    },
    {
     "data": {
      "application/javascript": [
       "\n",
       "        if (window._pyforest_update_imports_cell) { window._pyforest_update_imports_cell('import seaborn as sns\\nfrom sklearn.model_selection import train_test_split\\nimport matplotlib.pyplot as plt\\nfrom sklearn.model_selection import cross_val_score\\nimport pandas as pd'); }\n",
       "    "
      ],
      "text/plain": [
       "<IPython.core.display.Javascript object>"
      ]
     },
     "metadata": {},
     "output_type": "display_data"
    },
    {
     "data": {
      "application/javascript": [
       "\n",
       "        if (window._pyforest_update_imports_cell) { window._pyforest_update_imports_cell('import seaborn as sns\\nfrom sklearn.model_selection import train_test_split\\nimport matplotlib.pyplot as plt\\nfrom sklearn.model_selection import cross_val_score\\nimport pandas as pd'); }\n",
       "    "
      ],
      "text/plain": [
       "<IPython.core.display.Javascript object>"
      ]
     },
     "metadata": {},
     "output_type": "display_data"
    },
    {
     "data": {
      "application/javascript": [
       "\n",
       "        if (window._pyforest_update_imports_cell) { window._pyforest_update_imports_cell('import seaborn as sns\\nfrom sklearn.model_selection import train_test_split\\nimport matplotlib.pyplot as plt\\nfrom sklearn.model_selection import cross_val_score\\nimport pandas as pd'); }\n",
       "    "
      ],
      "text/plain": [
       "<IPython.core.display.Javascript object>"
      ]
     },
     "metadata": {},
     "output_type": "display_data"
    },
    {
     "data": {
      "application/javascript": [
       "\n",
       "        if (window._pyforest_update_imports_cell) { window._pyforest_update_imports_cell('import seaborn as sns\\nfrom sklearn.model_selection import train_test_split\\nimport matplotlib.pyplot as plt\\nfrom sklearn.model_selection import cross_val_score\\nimport pandas as pd'); }\n",
       "    "
      ],
      "text/plain": [
       "<IPython.core.display.Javascript object>"
      ]
     },
     "metadata": {},
     "output_type": "display_data"
    },
    {
     "data": {
      "application/javascript": [
       "\n",
       "        if (window._pyforest_update_imports_cell) { window._pyforest_update_imports_cell('import seaborn as sns\\nfrom sklearn.model_selection import train_test_split\\nimport matplotlib.pyplot as plt\\nfrom sklearn.model_selection import cross_val_score\\nimport pandas as pd'); }\n",
       "    "
      ],
      "text/plain": [
       "<IPython.core.display.Javascript object>"
      ]
     },
     "metadata": {},
     "output_type": "display_data"
    },
    {
     "data": {
      "application/javascript": [
       "\n",
       "        if (window._pyforest_update_imports_cell) { window._pyforest_update_imports_cell('import seaborn as sns\\nfrom sklearn.model_selection import train_test_split\\nimport matplotlib.pyplot as plt\\nfrom sklearn.model_selection import cross_val_score\\nimport pandas as pd'); }\n",
       "    "
      ],
      "text/plain": [
       "<IPython.core.display.Javascript object>"
      ]
     },
     "metadata": {},
     "output_type": "display_data"
    },
    {
     "data": {
      "image/png": "[encoded data removed]",
      "text/plain": [
       "<Figure size 432x288 with 1 Axes>"
      ]
     },
     "metadata": {
      "needs_background": "light"
     },
     "output_type": "display_data"
    }
   ],
   "source": [
    "plt.scatter(ccp_alphas,train_scores)\n",
    "plt.scatter(ccp_alphas,test_scores)\n",
    "plt.plot(ccp_alphas,train_scores,color='black',marker='o',label='train',drawstyle='steps-post')\n",
    "plt.plot(ccp_alphas,test_scores,color='red',marker='o',label='test',drawstyle='steps-post')\n",
    "plt.xlabel('alpha')\n",
    "plt.ylabel('accuracy')\n",
    "plt.legend()\n",
    "plt.subplots\n",
    "plt.show()"
   ]
  },
  {
   "cell_type": "code",
   "execution_count": 88,
   "id": "fc4ffaf0",
   "metadata": {},
   "outputs": [
    {
     "data": {
      "text/plain": [
       "DecisionTreeClassifier(ccp_alpha=0.0001)"
      ]
     },
     "execution_count": 88,
     "metadata": {},
     "output_type": "execute_result"
    }
   ],
   "source": [
    "after_p=tree.DecisionTreeClassifier(ccp_alpha=0.0001)\n",
    "after_p.fit(X_train_ros,y_train_ros)"
   ]
  },
  {
   "cell_type": "code",
   "execution_count": 89,
   "id": "19508dcb",
   "metadata": {},
   "outputs": [],
   "source": [
    "def compare_model_train_test(model):\n",
    "    y_train_pred = after_p.predict(X_train_ros)\n",
    "    y_test_pred = after_p.predict(X_test_ros)\n",
    "    train_accuracy = accuracy_score(y_train_ros, y_train_pred)\n",
    "    test_accuracy = accuracy_score(y_test_ros, y_test_pred)\n",
    "    train_clf_report = classification_report(y_train_ros, y_train_pred)\n",
    "    test_clf_report = classification_report(y_test_ros, y_test_pred)\n",
    "    print('Training accuracy is :', train_accuracy, '\\n', train_clf_report, '\\n',\n",
    "         'Testing accuracy is :', round(test_accuracy,2), '\\n', test_clf_report, '\\n' )"
   ]
  },
  {
   "cell_type": "code",
   "execution_count": 90,
   "id": "18373659",
   "metadata": {},
   "outputs": [
    {
     "name": "stdout",
     "output_type": "stream",
     "text": [
      "Training accuracy is : 0.9942288910592204 \n",
      "               precision    recall  f1-score   support\n",
      "\n",
      "           0       1.00      0.99      0.99      5601\n",
      "           1       0.99      1.00      0.99      5662\n",
      "\n",
      "    accuracy                           0.99     11263\n",
      "   macro avg       0.99      0.99      0.99     11263\n",
      "weighted avg       0.99      0.99      0.99     11263\n",
      " \n",
      " Testing accuracy is : 0.88 \n",
      "               precision    recall  f1-score   support\n",
      "\n",
      "           0       0.97      0.79      0.87      2444\n",
      "           1       0.82      0.97      0.89      2383\n",
      "\n",
      "    accuracy                           0.88      4827\n",
      "   macro avg       0.89      0.88      0.88      4827\n",
      "weighted avg       0.90      0.88      0.88      4827\n",
      " \n",
      "\n"
     ]
    }
   ],
   "source": [
    "compare_model_train_test(model)"
   ]
  },
  {
   "cell_type": "code",
   "execution_count": 91,
   "id": "7ec61646",
   "metadata": {},
   "outputs": [
    {
     "data": {
      "text/plain": [
       "array([0.75362319, 0.76397516, 0.73291925, 0.76190476, 0.76604555,\n",
       "       0.75776398, 0.7184265 , 0.7593361 , 0.7966805 , 0.76556017])"
      ]
     },
     "execution_count": 91,
     "metadata": {},
     "output_type": "execute_result"
    }
   ],
   "source": [
    "from sklearn.model_selection import cross_val_score     ##for logistic regression\n",
    "score=cross_val_score(after_p,X_test_ros,y_test_ros,cv=10)\n",
    "score"
   ]
  },
  {
   "cell_type": "markdown",
   "id": "6ce14044",
   "metadata": {},
   "source": [
    "### train"
   ]
  },
  {
   "cell_type": "code",
   "execution_count": 92,
   "id": "39e9f152",
   "metadata": {},
   "outputs": [
    {
     "data": {
      "text/plain": [
       "array([[5551,   50],\n",
       "       [  15, 5647]], dtype=int64)"
      ]
     },
     "execution_count": 92,
     "metadata": {},
     "output_type": "execute_result"
    }
   ],
   "source": [
    "y_pred_s_train_ros=after_p.predict(X_train_ros)\n",
    "cm_train_p=confusion_matrix(y_train_ros,y_pred_s_train_ros)\n",
    "cm_train_p"
   ]
  },
  {
   "cell_type": "code",
   "execution_count": 93,
   "id": "3d67684f",
   "metadata": {},
   "outputs": [
    {
     "data": {
      "application/javascript": [
       "\n",
       "        if (window._pyforest_update_imports_cell) { window._pyforest_update_imports_cell('import seaborn as sns\\nfrom sklearn.model_selection import train_test_split\\nimport matplotlib.pyplot as plt\\nfrom sklearn.model_selection import cross_val_score\\nimport pandas as pd'); }\n",
       "    "
      ],
      "text/plain": [
       "<IPython.core.display.Javascript object>"
      ]
     },
     "metadata": {},
     "output_type": "display_data"
    },
    {
     "data": {
      "text/plain": [
       "<AxesSubplot:>"
      ]
     },
     "execution_count": 93,
     "metadata": {},
     "output_type": "execute_result"
    },
    {
     "data": {
      "image/png": "[encoded data removed]",
      "text/plain": [
       "<Figure size 432x288 with 2 Axes>"
      ]
     },
     "metadata": {
      "needs_background": "light"
     },
     "output_type": "display_data"
    }
   ],
   "source": [
    "sns.heatmap(cm_train_p,annot=True, fmt='g')"
   ]
  },
  {
   "cell_type": "markdown",
   "id": "6c902d46",
   "metadata": {},
   "source": [
    "### test"
   ]
  },
  {
   "cell_type": "code",
   "execution_count": 94,
   "id": "e2b441a4",
   "metadata": {},
   "outputs": [
    {
     "data": {
      "text/plain": [
       "array([[1931,  513],\n",
       "       [  60, 2323]], dtype=int64)"
      ]
     },
     "execution_count": 94,
     "metadata": {},
     "output_type": "execute_result"
    }
   ],
   "source": [
    "y_pred_p=after_p.predict(X_test_ros) \n",
    "y_pred_p_test=after_p.predict(X_test_ros)\n",
    "cm_test_p=confusion_matrix(y_test_ros,y_pred_p)\n",
    "cm_test_p"
   ]
  },
  {
   "cell_type": "code",
   "execution_count": 95,
   "id": "04d13dfb",
   "metadata": {},
   "outputs": [
    {
     "data": {
      "application/javascript": [
       "\n",
       "        if (window._pyforest_update_imports_cell) { window._pyforest_update_imports_cell('import seaborn as sns\\nfrom sklearn.model_selection import train_test_split\\nimport matplotlib.pyplot as plt\\nfrom sklearn.model_selection import cross_val_score\\nimport pandas as pd'); }\n",
       "    "
      ],
      "text/plain": [
       "<IPython.core.display.Javascript object>"
      ]
     },
     "metadata": {},
     "output_type": "display_data"
    },
    {
     "data": {
      "text/plain": [
       "<AxesSubplot:>"
      ]
     },
     "execution_count": 95,
     "metadata": {},
     "output_type": "execute_result"
    },
    {
     "data": {
      "image/png": "[encoded data removed]",
      "text/plain": [
       "<Figure size 432x288 with 2 Axes>"
      ]
     },
     "metadata": {
      "needs_background": "light"
     },
     "output_type": "display_data"
    }
   ],
   "source": [
    "sns.heatmap(cm_test_p,annot=True, fmt='g')"
   ]
  },
  {
   "cell_type": "code",
   "execution_count": null,
   "id": "832ae94c",
   "metadata": {},
   "outputs": [],
   "source": []
  },
  {
   "cell_type": "code",
   "execution_count": null,
   "id": "7f86d554",
   "metadata": {},
   "outputs": [],
   "source": [
    "  "
   ]
  },
  {
   "cell_type": "code",
   "execution_count": 96,
   "id": "e2a617e6",
   "metadata": {},
   "outputs": [],
   "source": [
    "y_pred_p=after_p.predict(X_test_ros)"
   ]
  },
  {
   "cell_type": "code",
   "execution_count": 97,
   "id": "7f50cfac",
   "metadata": {},
   "outputs": [
    {
     "name": "stdout",
     "output_type": "stream",
     "text": [
      "              precision    recall  f1-score   support\n",
      "\n",
      "           0       1.00      0.99      0.99      5601\n",
      "           1       0.99      1.00      0.99      5662\n",
      "\n",
      "    accuracy                           0.99     11263\n",
      "   macro avg       0.99      0.99      0.99     11263\n",
      "weighted avg       0.99      0.99      0.99     11263\n",
      "\n"
     ]
    }
   ],
   "source": [
    "print(classification_report(y_train_ros,y_pred_s_train_ros))"
   ]
  },
  {
   "cell_type": "code",
   "execution_count": 98,
   "id": "ad49c7a0",
   "metadata": {},
   "outputs": [
    {
     "name": "stdout",
     "output_type": "stream",
     "text": [
      "              precision    recall  f1-score   support\n",
      "\n",
      "           0       0.98      0.80      0.88      2444\n",
      "           1       0.83      0.99      0.90      2383\n",
      "\n",
      "    accuracy                           0.89      4827\n",
      "   macro avg       0.90      0.89      0.89      4827\n",
      "weighted avg       0.90      0.89      0.89      4827\n",
      "\n"
     ]
    }
   ],
   "source": [
    "print(classification_report(y_test_ros,y_pred_s_test_ros))"
   ]
  },
  {
   "cell_type": "code",
   "execution_count": 99,
   "id": "e1099a36",
   "metadata": {},
   "outputs": [],
   "source": [
    "y_pred_rcv=after_p.predict_proba(X_test_ros)\n",
    "y_pred_rcv_pos=y_pred_rcv[:,1]##taking positive probabilities\n",
    "y_pred_rcv_pos\n",
    "fpr,tpr,thresholds =roc_curve(y_test_ros,y_pred_rcv_pos)"
   ]
  },
  {
   "cell_type": "code",
   "execution_count": 100,
   "id": "6ac35b5b",
   "metadata": {},
   "outputs": [
    {
     "data": {
      "application/javascript": [
       "\n",
       "        if (window._pyforest_update_imports_cell) { window._pyforest_update_imports_cell('import seaborn as sns\\nfrom sklearn.model_selection import train_test_split\\nimport matplotlib.pyplot as plt\\nfrom sklearn.model_selection import cross_val_score\\nimport pandas as pd'); }\n",
       "    "
      ],
      "text/plain": [
       "<IPython.core.display.Javascript object>"
      ]
     },
     "metadata": {},
     "output_type": "display_data"
    },
    {
     "data": {
      "application/javascript": [
       "\n",
       "        if (window._pyforest_update_imports_cell) { window._pyforest_update_imports_cell('import seaborn as sns\\nfrom sklearn.model_selection import train_test_split\\nimport matplotlib.pyplot as plt\\nfrom sklearn.model_selection import cross_val_score\\nimport pandas as pd'); }\n",
       "    "
      ],
      "text/plain": [
       "<IPython.core.display.Javascript object>"
      ]
     },
     "metadata": {},
     "output_type": "display_data"
    },
    {
     "data": {
      "application/javascript": [
       "\n",
       "        if (window._pyforest_update_imports_cell) { window._pyforest_update_imports_cell('import seaborn as sns\\nfrom sklearn.model_selection import train_test_split\\nimport matplotlib.pyplot as plt\\nfrom sklearn.model_selection import cross_val_score\\nimport pandas as pd'); }\n",
       "    "
      ],
      "text/plain": [
       "<IPython.core.display.Javascript object>"
      ]
     },
     "metadata": {},
     "output_type": "display_data"
    },
    {
     "data": {
      "application/javascript": [
       "\n",
       "        if (window._pyforest_update_imports_cell) { window._pyforest_update_imports_cell('import seaborn as sns\\nfrom sklearn.model_selection import train_test_split\\nimport matplotlib.pyplot as plt\\nfrom sklearn.model_selection import cross_val_score\\nimport pandas as pd'); }\n",
       "    "
      ],
      "text/plain": [
       "<IPython.core.display.Javascript object>"
      ]
     },
     "metadata": {},
     "output_type": "display_data"
    },
    {
     "data": {
      "application/javascript": [
       "\n",
       "        if (window._pyforest_update_imports_cell) { window._pyforest_update_imports_cell('import seaborn as sns\\nfrom sklearn.model_selection import train_test_split\\nimport matplotlib.pyplot as plt\\nfrom sklearn.model_selection import cross_val_score\\nimport pandas as pd'); }\n",
       "    "
      ],
      "text/plain": [
       "<IPython.core.display.Javascript object>"
      ]
     },
     "metadata": {},
     "output_type": "display_data"
    },
    {
     "data": {
      "application/javascript": [
       "\n",
       "        if (window._pyforest_update_imports_cell) { window._pyforest_update_imports_cell('import seaborn as sns\\nfrom sklearn.model_selection import train_test_split\\nimport matplotlib.pyplot as plt\\nfrom sklearn.model_selection import cross_val_score\\nimport pandas as pd'); }\n",
       "    "
      ],
      "text/plain": [
       "<IPython.core.display.Javascript object>"
      ]
     },
     "metadata": {},
     "output_type": "display_data"
    },
    {
     "data": {
      "application/javascript": [
       "\n",
       "        if (window._pyforest_update_imports_cell) { window._pyforest_update_imports_cell('import seaborn as sns\\nfrom sklearn.model_selection import train_test_split\\nimport matplotlib.pyplot as plt\\nfrom sklearn.model_selection import cross_val_score\\nimport pandas as pd'); }\n",
       "    "
      ],
      "text/plain": [
       "<IPython.core.display.Javascript object>"
      ]
     },
     "metadata": {},
     "output_type": "display_data"
    },
    {
     "data": {
      "image/png": "[encoded data removed]",
      "text/plain": [
       "<Figure size 432x288 with 1 Axes>"
      ]
     },
     "metadata": {
      "needs_background": "light"
     },
     "output_type": "display_data"
    }
   ],
   "source": [
    "\n",
    "plt.plot([0,1],[0,1],color='blue',label='prediction',linewidth=2,linestyle='--')\n",
    "plt.xlabel('false positive rate')\n",
    "plt.plot(fpr,tpr ,color='green',label='roc_')\n",
    "plt.xlabel('false positive rate')\n",
    "plt.ylabel('true positive rate ')\n",
    "plt.legend()\n",
    "plt.show()"
   ]
  },
  {
   "cell_type": "code",
   "execution_count": 101,
   "id": "831e463b",
   "metadata": {},
   "outputs": [
    {
     "data": {
      "text/plain": [
       "0.8824599265253812"
      ]
     },
     "execution_count": 101,
     "metadata": {},
     "output_type": "execute_result"
    }
   ],
   "source": [
    "roc_auc_score(y_test_ros,y_pred_p)"
   ]
  },
  {
   "cell_type": "code",
   "execution_count": null,
   "id": "fd0e7634",
   "metadata": {},
   "outputs": [],
   "source": []
  },
  {
   "cell_type": "markdown",
   "id": "c0f96b8d",
   "metadata": {},
   "source": [
    "### post-pruning(on normal data)"
   ]
  },
  {
   "cell_type": "code",
   "execution_count": 102,
   "id": "32e90c30",
   "metadata": {},
   "outputs": [
    {
     "name": "stdout",
     "output_type": "stream",
     "text": [
      "411\n"
     ]
    }
   ],
   "source": [
    "model=tree.DecisionTreeClassifier(ccp_alpha=0.0,random_state=42)\n",
    "###its defualt is o for giving better alpha our model should be increased\n",
    "###firstly we take best alpha value\n",
    "path=model.cost_complexity_pruning_path(X_train,y_train)\n",
    "path\n",
    "ccp_alphas=path.ccp_alphas\n",
    "print(len(ccp_alphas))\n",
    "ccp_alphas;"
   ]
  },
  {
   "cell_type": "code",
   "execution_count": 103,
   "id": "3f9ec974",
   "metadata": {},
   "outputs": [],
   "source": [
    "l=[]\n",
    "for k in ccp_alphas:\n",
    "    model_p=tree.DecisionTreeClassifier(ccp_alpha=k,random_state=42)\n",
    "    model_p.fit(X_train,y_train)\n",
    "    l.append(model_p)### we are taking alpha for every in decision tree"
   ]
  },
  {
   "cell_type": "code",
   "execution_count": 104,
   "id": "705275b1",
   "metadata": {},
   "outputs": [],
   "source": [
    "test_scores=[model_p.score(X_test,y_test) for model_p in l]\n",
    "test_scores;"
   ]
  },
  {
   "cell_type": "code",
   "execution_count": 105,
   "id": "90bcc723",
   "metadata": {},
   "outputs": [],
   "source": [
    "train_scores=[model_p.score(X_train,y_train) for model_p in l]\n",
    "train_scores;"
   ]
  },
  {
   "cell_type": "code",
   "execution_count": 106,
   "id": "2b177d61",
   "metadata": {},
   "outputs": [
    {
     "data": {
      "application/javascript": [
       "\n",
       "        if (window._pyforest_update_imports_cell) { window._pyforest_update_imports_cell('import seaborn as sns\\nfrom sklearn.model_selection import train_test_split\\nimport matplotlib.pyplot as plt\\nfrom sklearn.model_selection import cross_val_score\\nimport pandas as pd'); }\n",
       "    "
      ],
      "text/plain": [
       "<IPython.core.display.Javascript object>"
      ]
     },
     "metadata": {},
     "output_type": "display_data"
    },
    {
     "data": {
      "application/javascript": [
       "\n",
       "        if (window._pyforest_update_imports_cell) { window._pyforest_update_imports_cell('import seaborn as sns\\nfrom sklearn.model_selection import train_test_split\\nimport matplotlib.pyplot as plt\\nfrom sklearn.model_selection import cross_val_score\\nimport pandas as pd'); }\n",
       "    "
      ],
      "text/plain": [
       "<IPython.core.display.Javascript object>"
      ]
     },
     "metadata": {},
     "output_type": "display_data"
    },
    {
     "data": {
      "application/javascript": [
       "\n",
       "        if (window._pyforest_update_imports_cell) { window._pyforest_update_imports_cell('import seaborn as sns\\nfrom sklearn.model_selection import train_test_split\\nimport matplotlib.pyplot as plt\\nfrom sklearn.model_selection import cross_val_score\\nimport pandas as pd'); }\n",
       "    "
      ],
      "text/plain": [
       "<IPython.core.display.Javascript object>"
      ]
     },
     "metadata": {},
     "output_type": "display_data"
    },
    {
     "data": {
      "application/javascript": [
       "\n",
       "        if (window._pyforest_update_imports_cell) { window._pyforest_update_imports_cell('import seaborn as sns\\nfrom sklearn.model_selection import train_test_split\\nimport matplotlib.pyplot as plt\\nfrom sklearn.model_selection import cross_val_score\\nimport pandas as pd'); }\n",
       "    "
      ],
      "text/plain": [
       "<IPython.core.display.Javascript object>"
      ]
     },
     "metadata": {},
     "output_type": "display_data"
    },
    {
     "data": {
      "application/javascript": [
       "\n",
       "        if (window._pyforest_update_imports_cell) { window._pyforest_update_imports_cell('import seaborn as sns\\nfrom sklearn.model_selection import train_test_split\\nimport matplotlib.pyplot as plt\\nfrom sklearn.model_selection import cross_val_score\\nimport pandas as pd'); }\n",
       "    "
      ],
      "text/plain": [
       "<IPython.core.display.Javascript object>"
      ]
     },
     "metadata": {},
     "output_type": "display_data"
    },
    {
     "data": {
      "application/javascript": [
       "\n",
       "        if (window._pyforest_update_imports_cell) { window._pyforest_update_imports_cell('import seaborn as sns\\nfrom sklearn.model_selection import train_test_split\\nimport matplotlib.pyplot as plt\\nfrom sklearn.model_selection import cross_val_score\\nimport pandas as pd'); }\n",
       "    "
      ],
      "text/plain": [
       "<IPython.core.display.Javascript object>"
      ]
     },
     "metadata": {},
     "output_type": "display_data"
    },
    {
     "data": {
      "application/javascript": [
       "\n",
       "        if (window._pyforest_update_imports_cell) { window._pyforest_update_imports_cell('import seaborn as sns\\nfrom sklearn.model_selection import train_test_split\\nimport matplotlib.pyplot as plt\\nfrom sklearn.model_selection import cross_val_score\\nimport pandas as pd'); }\n",
       "    "
      ],
      "text/plain": [
       "<IPython.core.display.Javascript object>"
      ]
     },
     "metadata": {},
     "output_type": "display_data"
    },
    {
     "data": {
      "application/javascript": [
       "\n",
       "        if (window._pyforest_update_imports_cell) { window._pyforest_update_imports_cell('import seaborn as sns\\nfrom sklearn.model_selection import train_test_split\\nimport matplotlib.pyplot as plt\\nfrom sklearn.model_selection import cross_val_score\\nimport pandas as pd'); }\n",
       "    "
      ],
      "text/plain": [
       "<IPython.core.display.Javascript object>"
      ]
     },
     "metadata": {},
     "output_type": "display_data"
    },
    {
     "data": {
      "application/javascript": [
       "\n",
       "        if (window._pyforest_update_imports_cell) { window._pyforest_update_imports_cell('import seaborn as sns\\nfrom sklearn.model_selection import train_test_split\\nimport matplotlib.pyplot as plt\\nfrom sklearn.model_selection import cross_val_score\\nimport pandas as pd'); }\n",
       "    "
      ],
      "text/plain": [
       "<IPython.core.display.Javascript object>"
      ]
     },
     "metadata": {},
     "output_type": "display_data"
    },
    {
     "data": {
      "image/png": "[encoded data removed]",
      "text/plain": [
       "<Figure size 432x288 with 1 Axes>"
      ]
     },
     "metadata": {
      "needs_background": "light"
     },
     "output_type": "display_data"
    }
   ],
   "source": [
    "plt.scatter(ccp_alphas,train_scores)\n",
    "plt.scatter(ccp_alphas,test_scores)\n",
    "plt.plot(ccp_alphas,train_scores,color='black',marker='o',label='train',drawstyle='steps-post')\n",
    "plt.plot(ccp_alphas,test_scores,color='red',marker='o',label='test',drawstyle='steps-post')\n",
    "plt.xlabel('alpha')\n",
    "plt.ylabel('accuracy')\n",
    "plt.legend()\n",
    "plt.subplots\n",
    "plt.show()"
   ]
  },
  {
   "cell_type": "code",
   "execution_count": 107,
   "id": "80ad4b87",
   "metadata": {},
   "outputs": [
    {
     "data": {
      "text/plain": [
       "DecisionTreeClassifier(ccp_alpha=0.0002)"
      ]
     },
     "execution_count": 107,
     "metadata": {},
     "output_type": "execute_result"
    }
   ],
   "source": [
    "after_p_n=tree.DecisionTreeClassifier(ccp_alpha=0.0002)\n",
    "after_p_n.fit(X_train,y_train)"
   ]
  },
  {
   "cell_type": "code",
   "execution_count": 108,
   "id": "83dd9d70",
   "metadata": {},
   "outputs": [],
   "source": [
    "def compare_model_train_test(model):\n",
    "    y_train_pred = after_p_n.predict(X_train)\n",
    "    y_test_pred = after_p_n.predict(X_test)\n",
    "    train_accuracy = accuracy_score(y_train, y_train_pred)\n",
    "    test_accuracy = accuracy_score(y_test, y_test_pred)\n",
    "    train_clf_report = classification_report(y_train, y_train_pred)\n",
    "    test_clf_report = classification_report(y_test, y_test_pred)\n",
    "    print('Training accuracy is :', train_accuracy, '\\n', train_clf_report, '\\n',\n",
    "         'Testing accuracy is :', round(test_accuracy,2), '\\n', test_clf_report, '\\n' )"
   ]
  },
  {
   "cell_type": "code",
   "execution_count": 109,
   "id": "833ccb5e",
   "metadata": {},
   "outputs": [
    {
     "name": "stdout",
     "output_type": "stream",
     "text": [
      "Training accuracy is : 0.9683770883054893 \n",
      "               precision    recall  f1-score   support\n",
      "\n",
      "           0       0.97      0.99      0.98      5619\n",
      "           1       0.96      0.84      0.90      1085\n",
      "\n",
      "    accuracy                           0.97      6704\n",
      "   macro avg       0.97      0.92      0.94      6704\n",
      "weighted avg       0.97      0.97      0.97      6704\n",
      " \n",
      " Testing accuracy is : 0.76 \n",
      "               precision    recall  f1-score   support\n",
      "\n",
      "           0       0.86      0.86      0.86      2426\n",
      "           1       0.22      0.22      0.22       448\n",
      "\n",
      "    accuracy                           0.76      2874\n",
      "   macro avg       0.54      0.54      0.54      2874\n",
      "weighted avg       0.76      0.76      0.76      2874\n",
      " \n",
      "\n"
     ]
    }
   ],
   "source": [
    "compare_model_train_test(model)"
   ]
  },
  {
   "cell_type": "code",
   "execution_count": 110,
   "id": "5b4fde8f",
   "metadata": {},
   "outputs": [],
   "source": [
    "y_pred_p=after_p_n.predict(X_test)\n",
    "def evaluate_preds(y_test_ros, y_test_pred):\n",
    "    \"\"\"\n",
    "    Performs evaluation comparison on y_true labels vs. y_pred labels.\n",
    "    \"\"\"\n",
    "    accuracy = accuracy_score(y_test, y_test_pred)\n",
    "    precision = precision_score(y_test, y_test_pred)\n",
    "    recall = recall_score(y_test, y_test_pred)\n",
    "    f1 = f1_score(y_test, y_test_pred)\n",
    "    metric_dict = {\"accuracy\": round(accuracy, 2),\n",
    "                   \"precision\": round(precision, 2), \n",
    "                   \"recall\": round(recall, 2),\n",
    "                   \"f1\": round(f1, 2)}\n",
    "    print(f\"Acc: {accuracy * 100:.2f}%\")\n",
    "    print(f\"Precision: {precision:.2f}\")\n",
    "    print(f\"Recall: {recall:.2f}\")\n",
    "    print(f\"F1 score: {f1:.2f}\") \n",
    "\n",
    "    return metric_dict\n",
    " "
   ]
  },
  {
   "cell_type": "code",
   "execution_count": 111,
   "id": "b8971308",
   "metadata": {},
   "outputs": [
    {
     "name": "stdout",
     "output_type": "stream",
     "text": [
      "Acc: 75.89%\n",
      "Precision: 0.22\n",
      "Recall: 0.22\n",
      "F1 score: 0.22\n"
     ]
    }
   ],
   "source": [
    "model_p = evaluate_preds(y_test_ros, y_pred_p)"
   ]
  },
  {
   "cell_type": "code",
   "execution_count": 112,
   "id": "aae4de3c",
   "metadata": {},
   "outputs": [],
   "source": [
    "a=after_p_n.predict(X_test_ros)"
   ]
  },
  {
   "cell_type": "code",
   "execution_count": 113,
   "id": "0e3c33e5",
   "metadata": {},
   "outputs": [],
   "source": [
    "y_pred_rcv=after_p_n.predict_proba(X_test_ros)\n",
    "y_pred_rcv_pos=y_pred_rcv[:,1]##taking positive probabilities\n",
    "y_pred_rcv_pos\n",
    "fpr,tpr,thresholds =roc_curve(y_test_ros,y_pred_rcv_pos)"
   ]
  },
  {
   "cell_type": "code",
   "execution_count": 114,
   "id": "c0460ccb",
   "metadata": {},
   "outputs": [
    {
     "data": {
      "application/javascript": [
       "\n",
       "        if (window._pyforest_update_imports_cell) { window._pyforest_update_imports_cell('import seaborn as sns\\nfrom sklearn.model_selection import train_test_split\\nimport matplotlib.pyplot as plt\\nfrom sklearn.model_selection import cross_val_score\\nimport pandas as pd'); }\n",
       "    "
      ],
      "text/plain": [
       "<IPython.core.display.Javascript object>"
      ]
     },
     "metadata": {},
     "output_type": "display_data"
    },
    {
     "data": {
      "application/javascript": [
       "\n",
       "        if (window._pyforest_update_imports_cell) { window._pyforest_update_imports_cell('import seaborn as sns\\nfrom sklearn.model_selection import train_test_split\\nimport matplotlib.pyplot as plt\\nfrom sklearn.model_selection import cross_val_score\\nimport pandas as pd'); }\n",
       "    "
      ],
      "text/plain": [
       "<IPython.core.display.Javascript object>"
      ]
     },
     "metadata": {},
     "output_type": "display_data"
    },
    {
     "data": {
      "application/javascript": [
       "\n",
       "        if (window._pyforest_update_imports_cell) { window._pyforest_update_imports_cell('import seaborn as sns\\nfrom sklearn.model_selection import train_test_split\\nimport matplotlib.pyplot as plt\\nfrom sklearn.model_selection import cross_val_score\\nimport pandas as pd'); }\n",
       "    "
      ],
      "text/plain": [
       "<IPython.core.display.Javascript object>"
      ]
     },
     "metadata": {},
     "output_type": "display_data"
    },
    {
     "data": {
      "application/javascript": [
       "\n",
       "        if (window._pyforest_update_imports_cell) { window._pyforest_update_imports_cell('import seaborn as sns\\nfrom sklearn.model_selection import train_test_split\\nimport matplotlib.pyplot as plt\\nfrom sklearn.model_selection import cross_val_score\\nimport pandas as pd'); }\n",
       "    "
      ],
      "text/plain": [
       "<IPython.core.display.Javascript object>"
      ]
     },
     "metadata": {},
     "output_type": "display_data"
    },
    {
     "data": {
      "application/javascript": [
       "\n",
       "        if (window._pyforest_update_imports_cell) { window._pyforest_update_imports_cell('import seaborn as sns\\nfrom sklearn.model_selection import train_test_split\\nimport matplotlib.pyplot as plt\\nfrom sklearn.model_selection import cross_val_score\\nimport pandas as pd'); }\n",
       "    "
      ],
      "text/plain": [
       "<IPython.core.display.Javascript object>"
      ]
     },
     "metadata": {},
     "output_type": "display_data"
    },
    {
     "data": {
      "application/javascript": [
       "\n",
       "        if (window._pyforest_update_imports_cell) { window._pyforest_update_imports_cell('import seaborn as sns\\nfrom sklearn.model_selection import train_test_split\\nimport matplotlib.pyplot as plt\\nfrom sklearn.model_selection import cross_val_score\\nimport pandas as pd'); }\n",
       "    "
      ],
      "text/plain": [
       "<IPython.core.display.Javascript object>"
      ]
     },
     "metadata": {},
     "output_type": "display_data"
    },
    {
     "data": {
      "application/javascript": [
       "\n",
       "        if (window._pyforest_update_imports_cell) { window._pyforest_update_imports_cell('import seaborn as sns\\nfrom sklearn.model_selection import train_test_split\\nimport matplotlib.pyplot as plt\\nfrom sklearn.model_selection import cross_val_score\\nimport pandas as pd'); }\n",
       "    "
      ],
      "text/plain": [
       "<IPython.core.display.Javascript object>"
      ]
     },
     "metadata": {},
     "output_type": "display_data"
    },
    {
     "data": {
      "image/png": "[encoded data removed]",
      "text/plain": [
       "<Figure size 432x288 with 1 Axes>"
      ]
     },
     "metadata": {
      "needs_background": "light"
     },
     "output_type": "display_data"
    }
   ],
   "source": [
    "plt.plot([0,1],[0,1],color='blue',label='prediction',linewidth=2,linestyle='--')\n",
    "plt.xlabel('false positive rate')\n",
    "plt.plot(fpr,tpr ,color='green',label='roc_')\n",
    "plt.xlabel('false positive rate')\n",
    "plt.ylabel('true positive rate ')\n",
    "plt.legend()\n",
    "plt.show()"
   ]
  },
  {
   "cell_type": "code",
   "execution_count": 115,
   "id": "19e4c94e",
   "metadata": {},
   "outputs": [
    {
     "data": {
      "text/plain": [
       "0.8049980494679649"
      ]
     },
     "execution_count": 115,
     "metadata": {},
     "output_type": "execute_result"
    }
   ],
   "source": [
    "roc_auc_score(y_test_ros,a)"
   ]
  },
  {
   "cell_type": "code",
   "execution_count": 141,
   "id": "4d1c3ff1",
   "metadata": {},
   "outputs": [
    {
     "data": {
      "text/plain": [
       "array([0.77296451, 0.76461378, 0.78392484, 0.75822454, 0.27624021])"
      ]
     },
     "execution_count": 141,
     "metadata": {},
     "output_type": "execute_result"
    }
   ],
   "source": [
    "cross_val_score(after_p_n,x,y, cv=5)"
   ]
  },
  {
   "cell_type": "markdown",
   "id": "7cf66e74",
   "metadata": {},
   "source": [
    "### pruning(on over sampling)"
   ]
  },
  {
   "cell_type": "code",
   "execution_count": 116,
   "id": "67d67cfc",
   "metadata": {},
   "outputs": [],
   "source": [
    "from sklearn.model_selection import GridSearchCV\n",
    "model_grid=tree.DecisionTreeClassifier(random_state=42 )\n",
    "grid={'max_depth':range(1,40)}\n",
    "gs=GridSearchCV(model_grid,grid,cv=5) "
   ]
  },
  {
   "cell_type": "code",
   "execution_count": 117,
   "id": "39e0d9a0",
   "metadata": {},
   "outputs": [
    {
     "data": {
      "text/plain": [
       "GridSearchCV(cv=5, estimator=DecisionTreeClassifier(random_state=42),\n",
       "             param_grid={'max_depth': range(1, 40)})"
      ]
     },
     "execution_count": 117,
     "metadata": {},
     "output_type": "execute_result"
    }
   ],
   "source": [
    " gs.fit(X_train_ros,y_train_ros)"
   ]
  },
  {
   "cell_type": "code",
   "execution_count": 118,
   "id": "84a35362",
   "metadata": {},
   "outputs": [
    {
     "data": {
      "text/plain": [
       "{'max_depth': 34}"
      ]
     },
     "execution_count": 118,
     "metadata": {},
     "output_type": "execute_result"
    }
   ],
   "source": [
    "gs.best_params_"
   ]
  },
  {
   "cell_type": "code",
   "execution_count": 119,
   "id": "4408d793",
   "metadata": {},
   "outputs": [
    {
     "data": {
      "text/plain": [
       "DecisionTreeClassifier(ccp_alpha=0.00125, max_depth=30)"
      ]
     },
     "execution_count": 119,
     "metadata": {},
     "output_type": "execute_result"
    }
   ],
   "source": [
    "model_grid_best=tree.DecisionTreeClassifier(ccp_alpha=0.00125,max_depth=30,criterion='gini')\n",
    "model_grid_best.fit(X_train_ros,y_train_ros)"
   ]
  },
  {
   "cell_type": "code",
   "execution_count": 120,
   "id": "fa1c0a27",
   "metadata": {},
   "outputs": [
    {
     "data": {
      "text/plain": [
       "DecisionTreeClassifier(ccp_alpha=0.00125, max_depth=30)"
      ]
     },
     "execution_count": 120,
     "metadata": {},
     "output_type": "execute_result"
    }
   ],
   "source": [
    "model_grid_best=tree.DecisionTreeClassifier(ccp_alpha=0.00125,max_depth=30,criterion='gini')\n",
    "model_grid_best.fit(X_train_ros,y_train_ros)"
   ]
  },
  {
   "cell_type": "code",
   "execution_count": 121,
   "id": "7b2de5a1",
   "metadata": {},
   "outputs": [],
   "source": [
    "def compare_model_train_test(model_grid_best):\n",
    "    y_train_pred = model_grid_best.predict(X_train_ros)\n",
    "    y_test_pred = model_grid_best.predict(X_test_ros)\n",
    "    train_accuracy = accuracy_score(y_train_ros, y_train_pred)\n",
    "    test_accuracy = accuracy_score(y_test_ros, y_test_pred)\n",
    "    train_clf_report = classification_report(y_train_ros, y_train_pred)\n",
    "    test_clf_report = classification_report(y_test_ros, y_test_pred)\n",
    "    print('Training accuracy is :', train_accuracy, '\\n', train_clf_report, '\\n',\n",
    "         'Testing accuracy is :', round(test_accuracy,2), '\\n', test_clf_report, '\\n' )"
   ]
  },
  {
   "cell_type": "code",
   "execution_count": 122,
   "id": "ccb15814",
   "metadata": {},
   "outputs": [
    {
     "name": "stdout",
     "output_type": "stream",
     "text": [
      "Training accuracy is : 0.6352659149427329 \n",
      "               precision    recall  f1-score   support\n",
      "\n",
      "           0       0.67      0.52      0.59      5601\n",
      "           1       0.61      0.75      0.67      5662\n",
      "\n",
      "    accuracy                           0.64     11263\n",
      "   macro avg       0.64      0.63      0.63     11263\n",
      "weighted avg       0.64      0.64      0.63     11263\n",
      " \n",
      " Testing accuracy is : 0.61 \n",
      "               precision    recall  f1-score   support\n",
      "\n",
      "           0       0.66      0.50      0.57      2444\n",
      "           1       0.59      0.73      0.65      2383\n",
      "\n",
      "    accuracy                           0.61      4827\n",
      "   macro avg       0.62      0.62      0.61      4827\n",
      "weighted avg       0.62      0.61      0.61      4827\n",
      " \n",
      "\n"
     ]
    }
   ],
   "source": [
    "compare_model_train_test(model_grid_best)"
   ]
  },
  {
   "cell_type": "code",
   "execution_count": 123,
   "id": "b12d46ab",
   "metadata": {},
   "outputs": [
    {
     "data": {
      "image/png": "[encoded data removed]",
      "text/plain": [
       "<Figure size 432x288 with 1 Axes>"
      ]
     },
     "metadata": {
      "needs_background": "light"
     },
     "output_type": "display_data"
    }
   ],
   "source": [
    "tree.plot_tree(model_grid_best,filled=True,feature_names=df1_encoded.columns,fontsize=6);\n",
    " "
   ]
  },
  {
   "cell_type": "code",
   "execution_count": null,
   "id": "b202aeba",
   "metadata": {},
   "outputs": [],
   "source": []
  },
  {
   "cell_type": "code",
   "execution_count": 124,
   "id": "3fbe1816",
   "metadata": {},
   "outputs": [
    {
     "data": {
      "text/plain": [
       "array([[2927, 2674],\n",
       "       [1434, 4228]], dtype=int64)"
      ]
     },
     "execution_count": 124,
     "metadata": {},
     "output_type": "execute_result"
    }
   ],
   "source": [
    "y_pred_train_p=model_grid_best.predict(X_train_ros)\n",
    "cm_train_grid=confusion_matrix(y_train_ros,y_pred_train_p)\n",
    "cm_train_grid"
   ]
  },
  {
   "cell_type": "code",
   "execution_count": 125,
   "id": "c2dab5b5",
   "metadata": {},
   "outputs": [
    {
     "data": {
      "application/javascript": [
       "\n",
       "        if (window._pyforest_update_imports_cell) { window._pyforest_update_imports_cell('import seaborn as sns\\nfrom sklearn.model_selection import train_test_split\\nimport matplotlib.pyplot as plt\\nfrom sklearn.model_selection import cross_val_score\\nimport pandas as pd'); }\n",
       "    "
      ],
      "text/plain": [
       "<IPython.core.display.Javascript object>"
      ]
     },
     "metadata": {},
     "output_type": "display_data"
    },
    {
     "data": {
      "text/plain": [
       "<AxesSubplot:>"
      ]
     },
     "execution_count": 125,
     "metadata": {},
     "output_type": "execute_result"
    },
    {
     "data": {
      "image/png": "[encoded data removed]",
      "text/plain": [
       "<Figure size 432x288 with 2 Axes>"
      ]
     },
     "metadata": {
      "needs_background": "light"
     },
     "output_type": "display_data"
    }
   ],
   "source": [
    "sns.heatmap(cm_train_grid,annot=True, fmt='g')"
   ]
  },
  {
   "cell_type": "code",
   "execution_count": 126,
   "id": "8a5f45a7",
   "metadata": {},
   "outputs": [
    {
     "data": {
      "text/plain": [
       "array([[1228, 1216],\n",
       "       [ 643, 1740]], dtype=int64)"
      ]
     },
     "execution_count": 126,
     "metadata": {},
     "output_type": "execute_result"
    }
   ],
   "source": [
    "y_pred_test_p=model_grid_best.predict(X_test_ros)\n",
    "cm_train_grid_test=confusion_matrix(y_test_ros,y_pred_test_p)\n",
    "cm_train_grid_test"
   ]
  },
  {
   "cell_type": "code",
   "execution_count": 127,
   "id": "504dce0f",
   "metadata": {},
   "outputs": [
    {
     "data": {
      "application/javascript": [
       "\n",
       "        if (window._pyforest_update_imports_cell) { window._pyforest_update_imports_cell('import seaborn as sns\\nfrom sklearn.model_selection import train_test_split\\nimport matplotlib.pyplot as plt\\nfrom sklearn.model_selection import cross_val_score\\nimport pandas as pd'); }\n",
       "    "
      ],
      "text/plain": [
       "<IPython.core.display.Javascript object>"
      ]
     },
     "metadata": {},
     "output_type": "display_data"
    },
    {
     "data": {
      "text/plain": [
       "<AxesSubplot:>"
      ]
     },
     "execution_count": 127,
     "metadata": {},
     "output_type": "execute_result"
    },
    {
     "data": {
      "image/png": "[encoded data removed]",
      "text/plain": [
       "<Figure size 432x288 with 2 Axes>"
      ]
     },
     "metadata": {
      "needs_background": "light"
     },
     "output_type": "display_data"
    }
   ],
   "source": [
    "sns.heatmap(cm_train_grid_test,annot=True, fmt='g')"
   ]
  },
  {
   "cell_type": "code",
   "execution_count": 128,
   "id": "fffb76dd",
   "metadata": {},
   "outputs": [],
   "source": [
    "y_pred_rcv=model_grid_best.predict_proba(X_test_ros)\n",
    "y_pred_rcv_pos=y_pred_rcv[:,1]##taking positive probabilities\n",
    "y_pred_rcv_pos\n",
    "fpr,tpr,thresholds =roc_curve(y_test_ros,y_pred_rcv_pos)"
   ]
  },
  {
   "cell_type": "code",
   "execution_count": 129,
   "id": "e601f24a",
   "metadata": {},
   "outputs": [
    {
     "data": {
      "application/javascript": [
       "\n",
       "        if (window._pyforest_update_imports_cell) { window._pyforest_update_imports_cell('import seaborn as sns\\nfrom sklearn.model_selection import train_test_split\\nimport matplotlib.pyplot as plt\\nfrom sklearn.model_selection import cross_val_score\\nimport pandas as pd'); }\n",
       "    "
      ],
      "text/plain": [
       "<IPython.core.display.Javascript object>"
      ]
     },
     "metadata": {},
     "output_type": "display_data"
    },
    {
     "data": {
      "application/javascript": [
       "\n",
       "        if (window._pyforest_update_imports_cell) { window._pyforest_update_imports_cell('import seaborn as sns\\nfrom sklearn.model_selection import train_test_split\\nimport matplotlib.pyplot as plt\\nfrom sklearn.model_selection import cross_val_score\\nimport pandas as pd'); }\n",
       "    "
      ],
      "text/plain": [
       "<IPython.core.display.Javascript object>"
      ]
     },
     "metadata": {},
     "output_type": "display_data"
    },
    {
     "data": {
      "application/javascript": [
       "\n",
       "        if (window._pyforest_update_imports_cell) { window._pyforest_update_imports_cell('import seaborn as sns\\nfrom sklearn.model_selection import train_test_split\\nimport matplotlib.pyplot as plt\\nfrom sklearn.model_selection import cross_val_score\\nimport pandas as pd'); }\n",
       "    "
      ],
      "text/plain": [
       "<IPython.core.display.Javascript object>"
      ]
     },
     "metadata": {},
     "output_type": "display_data"
    },
    {
     "data": {
      "application/javascript": [
       "\n",
       "        if (window._pyforest_update_imports_cell) { window._pyforest_update_imports_cell('import seaborn as sns\\nfrom sklearn.model_selection import train_test_split\\nimport matplotlib.pyplot as plt\\nfrom sklearn.model_selection import cross_val_score\\nimport pandas as pd'); }\n",
       "    "
      ],
      "text/plain": [
       "<IPython.core.display.Javascript object>"
      ]
     },
     "metadata": {},
     "output_type": "display_data"
    },
    {
     "data": {
      "application/javascript": [
       "\n",
       "        if (window._pyforest_update_imports_cell) { window._pyforest_update_imports_cell('import seaborn as sns\\nfrom sklearn.model_selection import train_test_split\\nimport matplotlib.pyplot as plt\\nfrom sklearn.model_selection import cross_val_score\\nimport pandas as pd'); }\n",
       "    "
      ],
      "text/plain": [
       "<IPython.core.display.Javascript object>"
      ]
     },
     "metadata": {},
     "output_type": "display_data"
    },
    {
     "data": {
      "application/javascript": [
       "\n",
       "        if (window._pyforest_update_imports_cell) { window._pyforest_update_imports_cell('import seaborn as sns\\nfrom sklearn.model_selection import train_test_split\\nimport matplotlib.pyplot as plt\\nfrom sklearn.model_selection import cross_val_score\\nimport pandas as pd'); }\n",
       "    "
      ],
      "text/plain": [
       "<IPython.core.display.Javascript object>"
      ]
     },
     "metadata": {},
     "output_type": "display_data"
    },
    {
     "data": {
      "application/javascript": [
       "\n",
       "        if (window._pyforest_update_imports_cell) { window._pyforest_update_imports_cell('import seaborn as sns\\nfrom sklearn.model_selection import train_test_split\\nimport matplotlib.pyplot as plt\\nfrom sklearn.model_selection import cross_val_score\\nimport pandas as pd'); }\n",
       "    "
      ],
      "text/plain": [
       "<IPython.core.display.Javascript object>"
      ]
     },
     "metadata": {},
     "output_type": "display_data"
    },
    {
     "data": {
      "image/png": "[encoded data removed]",
      "text/plain": [
       "<Figure size 432x288 with 1 Axes>"
      ]
     },
     "metadata": {
      "needs_background": "light"
     },
     "output_type": "display_data"
    }
   ],
   "source": [
    "plt.plot([0,1],[0,1],color='blue',label='prediction',linewidth=2,linestyle='--')\n",
    "plt.xlabel('false positive rate')\n",
    "plt.plot(fpr,tpr ,color='green',label='roc_')\n",
    "plt.xlabel('false positive rate')\n",
    "plt.ylabel('true positive rate ')\n",
    "plt.legend()\n",
    "plt.show()"
   ]
  },
  {
   "cell_type": "code",
   "execution_count": 130,
   "id": "aaf9d797",
   "metadata": {},
   "outputs": [
    {
     "data": {
      "text/plain": [
       "0.6163135219259718"
      ]
     },
     "execution_count": 130,
     "metadata": {},
     "output_type": "execute_result"
    }
   ],
   "source": [
    "roc_auc_score(y_test_ros,y_pred_test_p)"
   ]
  },
  {
   "cell_type": "code",
   "execution_count": 143,
   "id": "c6dcd4c4",
   "metadata": {},
   "outputs": [
    {
     "data": {
      "text/plain": [
       "array([0.84029228, 0.84029228, 0.84029228, 0.84029228, 0.84029228,\n",
       "       0.83924843, 0.83924843, 0.83924843, 0.84012539, 0.84012539])"
      ]
     },
     "execution_count": 143,
     "metadata": {},
     "output_type": "execute_result"
    }
   ],
   "source": [
    " cross_val_score(model_grid_best,x,y, cv=10)"
   ]
  },
  {
   "cell_type": "markdown",
   "id": "9ceedbf2",
   "metadata": {},
   "source": [
    "### pruning on normal data"
   ]
  },
  {
   "cell_type": "code",
   "execution_count": 131,
   "id": "6c1f1ee8",
   "metadata": {},
   "outputs": [],
   "source": [
    "from sklearn.model_selection import GridSearchCV\n",
    "model_grid=tree.DecisionTreeClassifier(random_state=42)\n",
    "grid={'max_depth':range(1,40)}\n",
    "gs=GridSearchCV(model_grid,grid,cv=5) "
   ]
  },
  {
   "cell_type": "code",
   "execution_count": 132,
   "id": "a8e510b9",
   "metadata": {},
   "outputs": [
    {
     "data": {
      "text/plain": [
       "GridSearchCV(cv=5, estimator=DecisionTreeClassifier(random_state=42),\n",
       "             param_grid={'max_depth': range(1, 40)})"
      ]
     },
     "execution_count": 132,
     "metadata": {},
     "output_type": "execute_result"
    }
   ],
   "source": [
    "gs.fit(X_train,y_train)"
   ]
  },
  {
   "cell_type": "code",
   "execution_count": 133,
   "id": "c40ca04d",
   "metadata": {},
   "outputs": [
    {
     "data": {
      "text/plain": [
       "{'max_depth': 1}"
      ]
     },
     "execution_count": 133,
     "metadata": {},
     "output_type": "execute_result"
    }
   ],
   "source": [
    "gs.best_params_"
   ]
  },
  {
   "cell_type": "code",
   "execution_count": 134,
   "id": "9f14bb0a",
   "metadata": {},
   "outputs": [
    {
     "data": {
      "text/plain": [
       "DecisionTreeClassifier(ccp_alpha=0.00125, max_depth=1, min_samples_leaf=2,\n",
       "                       min_samples_split=4)"
      ]
     },
     "execution_count": 134,
     "metadata": {},
     "output_type": "execute_result"
    }
   ],
   "source": [
    "model_grid_best=tree.DecisionTreeClassifier(ccp_alpha=0.00125,max_depth=1, min_samples_leaf=2,min_samples_split=4,criterion='gini')\n",
    "model_grid_best.fit(X_train,y_train)"
   ]
  },
  {
   "cell_type": "code",
   "execution_count": 135,
   "id": "747c5f5d",
   "metadata": {},
   "outputs": [
    {
     "data": {
      "text/plain": [
       "DecisionTreeClassifier(ccp_alpha=0.00125, max_depth=1, min_samples_leaf=2,\n",
       "                       min_samples_split=4)"
      ]
     },
     "execution_count": 135,
     "metadata": {},
     "output_type": "execute_result"
    }
   ],
   "source": [
    "model_grid_best_n=tree.DecisionTreeClassifier(ccp_alpha=0.00125,max_depth=1, min_samples_leaf=2,min_samples_split=4,criterion='gini')\n",
    "model_grid_best_n.fit(X_train,y_train)"
   ]
  },
  {
   "cell_type": "code",
   "execution_count": 136,
   "id": "27827af9",
   "metadata": {},
   "outputs": [],
   "source": [
    "def compare_model_train_test(model_grid_best_n):\n",
    "    y_train_pred = model_grid_best_n.predict(X_train)\n",
    "    y_test_pred = model_grid_best_n.predict(X_test)\n",
    "    train_accuracy = accuracy_score(y_train, y_train_pred)\n",
    "    test_accuracy = accuracy_score(y_test, y_test_pred)\n",
    "    train_clf_report = classification_report(y_train, y_train_pred)\n",
    "    test_clf_report = classification_report(y_test, y_test_pred)\n",
    "    print('Training accuracy is :', train_accuracy, '\\n', train_clf_report, '\\n',\n",
    "         'Testing accuracy is :', round(test_accuracy,2), '\\n', test_clf_report, '\\n' )"
   ]
  },
  {
   "cell_type": "code",
   "execution_count": 137,
   "id": "4c520060",
   "metadata": {},
   "outputs": [
    {
     "name": "stdout",
     "output_type": "stream",
     "text": [
      "Training accuracy is : 0.8381563245823389 \n",
      "               precision    recall  f1-score   support\n",
      "\n",
      "           0       0.84      1.00      0.91      5619\n",
      "           1       0.00      0.00      0.00      1085\n",
      "\n",
      "    accuracy                           0.84      6704\n",
      "   macro avg       0.42      0.50      0.46      6704\n",
      "weighted avg       0.70      0.84      0.76      6704\n",
      " \n",
      " Testing accuracy is : 0.84 \n",
      "               precision    recall  f1-score   support\n",
      "\n",
      "           0       0.84      1.00      0.92      2426\n",
      "           1       0.00      0.00      0.00       448\n",
      "\n",
      "    accuracy                           0.84      2874\n",
      "   macro avg       0.42      0.50      0.46      2874\n",
      "weighted avg       0.71      0.84      0.77      2874\n",
      " \n",
      "\n"
     ]
    },
    {
     "name": "stderr",
     "output_type": "stream",
     "text": [
      "C:\\Users\\63094\\anaconda3\\lib\\site-packages\\sklearn\\metrics\\_classification.py:1318: UndefinedMetricWarning: Precision and F-score are ill-defined and being set to 0.0 in labels with no predicted samples. Use `zero_division` parameter to control this behavior.\n",
      "  _warn_prf(average, modifier, msg_start, len(result))\n",
      "C:\\Users\\63094\\anaconda3\\lib\\site-packages\\sklearn\\metrics\\_classification.py:1318: UndefinedMetricWarning: Precision and F-score are ill-defined and being set to 0.0 in labels with no predicted samples. Use `zero_division` parameter to control this behavior.\n",
      "  _warn_prf(average, modifier, msg_start, len(result))\n",
      "C:\\Users\\63094\\anaconda3\\lib\\site-packages\\sklearn\\metrics\\_classification.py:1318: UndefinedMetricWarning: Precision and F-score are ill-defined and being set to 0.0 in labels with no predicted samples. Use `zero_division` parameter to control this behavior.\n",
      "  _warn_prf(average, modifier, msg_start, len(result))\n",
      "C:\\Users\\63094\\anaconda3\\lib\\site-packages\\sklearn\\metrics\\_classification.py:1318: UndefinedMetricWarning: Precision and F-score are ill-defined and being set to 0.0 in labels with no predicted samples. Use `zero_division` parameter to control this behavior.\n",
      "  _warn_prf(average, modifier, msg_start, len(result))\n",
      "C:\\Users\\63094\\anaconda3\\lib\\site-packages\\sklearn\\metrics\\_classification.py:1318: UndefinedMetricWarning: Precision and F-score are ill-defined and being set to 0.0 in labels with no predicted samples. Use `zero_division` parameter to control this behavior.\n",
      "  _warn_prf(average, modifier, msg_start, len(result))\n",
      "C:\\Users\\63094\\anaconda3\\lib\\site-packages\\sklearn\\metrics\\_classification.py:1318: UndefinedMetricWarning: Precision and F-score are ill-defined and being set to 0.0 in labels with no predicted samples. Use `zero_division` parameter to control this behavior.\n",
      "  _warn_prf(average, modifier, msg_start, len(result))\n"
     ]
    }
   ],
   "source": [
    "compare_model_train_test(model_grid_best_n)"
   ]
  },
  {
   "cell_type": "code",
   "execution_count": 138,
   "id": "753f3cf2",
   "metadata": {},
   "outputs": [
    {
     "ename": "NameError",
     "evalue": "name 'interestrate' is not defined",
     "output_type": "error",
     "traceback": [
      "\u001b[1;31m---------------------------------------------------------------------------\u001b[0m",
      "\u001b[1;31mNameError\u001b[0m                                 Traceback (most recent call last)",
      "\u001b[1;32m<ipython-input-138-97fef40465d9>\u001b[0m in \u001b[0;36m<module>\u001b[1;34m\u001b[0m\n\u001b[0;32m      1\u001b[0m \u001b[0manalyse\u001b[0m \u001b[1;33m=\u001b[0m \u001b[0mdf1\u001b[0m\u001b[1;33m.\u001b[0m\u001b[0mgroupby\u001b[0m\u001b[1;33m(\u001b[0m\u001b[1;33m[\u001b[0m\u001b[1;34m'installment'\u001b[0m\u001b[1;33m,\u001b[0m\u001b[1;34m'target'\u001b[0m\u001b[1;33m]\u001b[0m\u001b[1;33m)\u001b[0m\u001b[1;33m[\u001b[0m\u001b[1;34m'target'\u001b[0m\u001b[1;33m]\u001b[0m\u001b[1;33m.\u001b[0m\u001b[0mcount\u001b[0m\u001b[1;33m(\u001b[0m\u001b[1;33m)\u001b[0m\u001b[1;33m\u001b[0m\u001b[1;33m\u001b[0m\u001b[0m\n\u001b[1;32m----> 2\u001b[1;33m \u001b[0manalyse\u001b[0m \u001b[1;33m=\u001b[0m \u001b[0minterestrate\u001b[0m\u001b[1;33m.\u001b[0m\u001b[0mgroupby\u001b[0m\u001b[1;33m(\u001b[0m\u001b[0mlevel\u001b[0m\u001b[1;33m=\u001b[0m\u001b[1;36m0\u001b[0m\u001b[1;33m)\u001b[0m\u001b[1;33m.\u001b[0m\u001b[0mapply\u001b[0m\u001b[1;33m(\u001b[0m\u001b[1;32mlambda\u001b[0m \u001b[0mx\u001b[0m\u001b[1;33m:\u001b[0m\u001b[1;36m100\u001b[0m \u001b[1;33m*\u001b[0m \u001b[0mx\u001b[0m \u001b[1;33m/\u001b[0m \u001b[0mfloat\u001b[0m\u001b[1;33m(\u001b[0m\u001b[0mx\u001b[0m\u001b[1;33m.\u001b[0m\u001b[0msum\u001b[0m\u001b[1;33m(\u001b[0m\u001b[1;33m)\u001b[0m\u001b[1;33m)\u001b[0m\u001b[1;33m)\u001b[0m\u001b[1;33m\u001b[0m\u001b[1;33m\u001b[0m\u001b[0m\n\u001b[0m\u001b[0;32m      3\u001b[0m \u001b[0manalyse\u001b[0m\u001b[1;33m\u001b[0m\u001b[1;33m\u001b[0m\u001b[0m\n\u001b[0;32m      4\u001b[0m \u001b[1;33m\u001b[0m\u001b[0m\n",
      "\u001b[1;31mNameError\u001b[0m: name 'interestrate' is not defined"
     ]
    }
   ],
   "source": [
    "analyse = df1.groupby(['installment','target'])['target'].count()\n",
    "analyse = interestrate.groupby(level=0).apply(lambda x:100 * x / float(x.sum()))\n",
    "analyse\n",
    " "
   ]
  },
  {
   "cell_type": "code",
   "execution_count": null,
   "id": "f6a3bf82",
   "metadata": {},
   "outputs": [],
   "source": [
    " df1"
   ]
  },
  {
   "cell_type": "code",
   "execution_count": null,
   "id": "f0abf422",
   "metadata": {},
   "outputs": [],
   "source": [
    "x=df1['interestrate']\n",
    "y=df1['target']"
   ]
  },
  {
   "cell_type": "code",
   "execution_count": null,
   "id": "3b964423",
   "metadata": {},
   "outputs": [],
   "source": [
    " "
   ]
  },
  {
   "cell_type": "code",
   "execution_count": null,
   "id": "60241b1f",
   "metadata": {},
   "outputs": [],
   "source": [
    " "
   ]
  },
  {
   "cell_type": "code",
   "execution_count": null,
   "id": "5d358255",
   "metadata": {},
   "outputs": [],
   "source": [
    " "
   ]
  },
  {
   "cell_type": "code",
   "execution_count": null,
   "id": "7f07bd1c",
   "metadata": {},
   "outputs": [],
   "source": []
  }
 ],
 "metadata": {
  "kernelspec": {
   "display_name": "Python 3",
   "language": "python",
   "name": "python3"
  },
  "language_info": {
   "codemirror_mode": {
    "name": "ipython",
    "version": 3
   },
   "file_extension": ".py",
   "mimetype": "text/x-python",
   "name": "python",
   "nbconvert_exporter": "python",
   "pygments_lexer": "ipython3",
   "version": "3.8.8"
  }
 },
 "nbformat": 4,
 "nbformat_minor": 5
}
